{
 "cells": [
  {
   "cell_type": "markdown",
   "id": "1ca2a6f5-bd5a-4520-8380-baf5cb536d41",
   "metadata": {},
   "source": [
    "## ADF Diagnostics In Jupyter\n",
    "This notebook will run the Atmospheric Diagnostic Framework using the settings in a config.yaml file in your ADF directory. \n",
    "\n",
    "Note that it was developed to run on Cheyenne/Caspar *with the NPL (conda) kernel*"
   ]
  },
  {
   "cell_type": "markdown",
   "id": "7eea8d1a-d6a7-4464-bd6d-8194aa2368d0",
   "metadata": {
    "tags": []
   },
   "source": [
    "### Setup\n",
    "#### Required packages"
   ]
  },
  {
   "cell_type": "code",
   "execution_count": 1,
   "id": "4d0264e2-c116-4e18-af33-0ce3adabcd60",
   "metadata": {},
   "outputs": [],
   "source": [
    "import os.path\n",
    "import sys"
   ]
  },
  {
   "cell_type": "markdown",
   "id": "6566766f-9d8f-4428-bf01-3c36a1ffeb63",
   "metadata": {},
   "source": [
    "#### Paths"
   ]
  },
  {
   "cell_type": "code",
   "execution_count": 2,
   "id": "66a55cfa-2d81-4298-8623-4ceaf3c0fb1f",
   "metadata": {},
   "outputs": [
    {
     "name": "stdout",
     "output_type": "stream",
     "text": [
      "current working directory = /glade/u/home/brianpm/Code/CAM_diagnostics\n",
      "ADF path                  = /glade/u/home/brianpm/Code/CAM_diagnostics\n"
     ]
    }
   ],
   "source": [
    "# Determine ADF directory path\n",
    "# If it is in your cwd, set adf_path = local_path, \n",
    "# otherwise set adf_path appropriately\n",
    "\n",
    "local_path = os.path.abspath('')\n",
    "adf_path = \"/glade/u/home/brianpm/Code/CAM_diagnostics\"\n",
    "print(f\"current working directory = {local_path}\")\n",
    "print(f\"ADF path                  = {adf_path}\")"
   ]
  },
  {
   "cell_type": "code",
   "execution_count": 3,
   "id": "f927cc3e-7fa9-4347-b44e-956c7ebdc742",
   "metadata": {},
   "outputs": [
    {
     "name": "stdout",
     "output_type": "stream",
     "text": [
      "The lib scripts live here, right? /glade/u/home/brianpm/Code/CAM_diagnostics/lib\n",
      "The plotting scripts live here, right? /glade/u/home/brianpm/Code/CAM_diagnostics/scripts/plotting\n"
     ]
    }
   ],
   "source": [
    "#set path to ADF lib\n",
    "lib_path = os.path.join(adf_path,\"lib\")\n",
    "print(f\"The lib scripts live here, right? {lib_path}\")\n",
    "\n",
    "#set path to ADF plotting scripts directory\n",
    "plotting_scripts_path = os.path.join(adf_path,\"scripts\",\"plotting\")\n",
    "print(f\"The plotting scripts live here, right? {plotting_scripts_path}\")\n",
    "\n",
    "#Add paths to python path:\n",
    "sys.path.append(lib_path)\n",
    "sys.path.append(plotting_scripts_path)\n",
    "\n"
   ]
  },
  {
   "cell_type": "markdown",
   "id": "159be7f2-8593-483a-b200-daf8c3c992c8",
   "metadata": {},
   "source": [
    "#### Import config file into ADF object\n",
    "If there are errors, here, it is likely due to path errors above"
   ]
  },
  {
   "cell_type": "code",
   "execution_count": 4,
   "id": "f553607f-cd31-4aa3-8142-4959b3569a1a",
   "metadata": {},
   "outputs": [],
   "source": [
    "#import ADF diagnostics object\n",
    "from adf_diag import AdfDiag\n",
    "\n",
    "# If this fails, check your paths output in the cells above,\n",
    "# and that you are running the NPL (conda) Kernel\n",
    "# You can see all the paths being examined by un-commenting the following:\n",
    "#sys.path"
   ]
  },
  {
   "cell_type": "code",
   "execution_count": 5,
   "id": "cd4918d2-dcc0-417b-8867-d368c4cb1d78",
   "metadata": {},
   "outputs": [],
   "source": [
    "#set path to config YAML file:\n",
    "#config_file=\"~/diag/ADF_top/ADF/config_dani.yaml\"\n",
    "config_file=os.path.join(adf_path,\"config_cam_baseline_example.yaml\")\n"
   ]
  },
  {
   "cell_type": "code",
   "execution_count": 6,
   "id": "4ac46243-f980-41e1-9f8c-8d8ad361bb89",
   "metadata": {},
   "outputs": [
    {
     "name": "stdout",
     "output_type": "stream",
     "text": [
      "read_config_var L271 : using self.__config_dict \n",
      "DRB read_config_var got dict \n",
      "{'diag_basic_info': {'compare_obs': False, 'create_html': True, 'obs_data_loc': '/glade/work/nusbaume/SE_projects/model_diagnostics/ADF_obs', 'cam_regrid_loc': '/some/where/you/want/to/have/regridded_files', 'cam_overwrite_regrid': False, 'cam_diag_plot_loc': '/some/where/you/want/to/have/diag_plots', 'use_defaults': True, 'plot_press_levels': [200, 850], 'central_longitude': 180, 'weight_season': True, 'num_procs': 8}, 'diag_cam_climo': {'calc_cam_climo': True, 'cam_overwrite_climo': False, 'cam_case_name': 'b.e20.BHIST.f09_g17.20thC.297_05', 'cam_hist_loc': '/glade/p/cesm/ADF/b.e20.BHIST.f09_g17.20thC.297_05/', 'cam_climo_loc': '/some/where/you/want/to/have/climo_files/', 'start_year': 1990, 'end_year': 1999, 'cam_ts_done': False, 'cam_ts_save': True, 'cam_overwrite_ts': False, 'cam_ts_loc': '/some/where/you/want/to/have/time_series_files/'}, 'diag_cam_baseline_climo': {'calc_cam_climo': True, 'cam_overwrite_climo': False, 'cam_case_name': 'b.e20.BHIST.f09_g16.20thC.125.02', 'cam_hist_loc': '/glade/p/cesm/ADF/b.e20.BHIST.f09_g16.20thC.125.02/', 'cam_climo_loc': '/some/where/you/want/to/have/baseline_climo_files/', 'start_year': 1990, 'end_year': 1999, 'cam_ts_done': False, 'cam_ts_save': True, 'cam_overwrite_ts': False, 'cam_ts_loc': '/some/where/you/want/to/have/baseline_time_series_files/'}, 'diag_cvdp_info': {'cvdp_run': False, 'cvdp_codebase_loc': '/glade/u/home/asphilli/CESM-diagnostics/CVDP/Release/v5.2.0/', 'cvdp_loc': '/glade/scratch/asphilli/ADF-Sandbox/cvdp/', 'cvdp_tar': False}, 'time_averaging_scripts': ['create_climo_files'], 'regridding_scripts': ['regrid_example'], 'analysis_scripts': ['amwg_table'], 'plotting_scripts': ['global_latlon_map', 'global_latlon_vect_map', 'zonal_mean', 'polar_map'], 'diag_var_list': ['SWCF', 'LWCF', 'PRECC', 'PRECL', 'PSL', 'Q', 'TREFHT', 'TS', 'TAUX', 'TAUY']}\n",
      "read_config_var L268 : found conf_dict\n",
      "DRB read_config_var got dict \n",
      "{'compare_obs': False, 'create_html': True, 'obs_data_loc': '/glade/work/nusbaume/SE_projects/model_diagnostics/ADF_obs', 'cam_regrid_loc': '/some/where/you/want/to/have/regridded_files', 'cam_overwrite_regrid': False, 'cam_diag_plot_loc': '/some/where/you/want/to/have/diag_plots', 'use_defaults': True, 'plot_press_levels': [200, 850], 'central_longitude': 180, 'weight_season': True, 'num_procs': 8}\n",
      "read_config_var L268 : found conf_dict\n",
      "DRB read_config_var got dict \n",
      "{'compare_obs': False, 'create_html': True, 'obs_data_loc': '/glade/work/nusbaume/SE_projects/model_diagnostics/ADF_obs', 'cam_regrid_loc': '/some/where/you/want/to/have/regridded_files', 'cam_overwrite_regrid': False, 'cam_diag_plot_loc': '/some/where/you/want/to/have/diag_plots', 'use_defaults': True, 'plot_press_levels': [200, 850], 'central_longitude': 180, 'weight_season': True, 'num_procs': 8}\n",
      "read_config_var L271 : using self.__config_dict \n",
      "DRB read_config_var got dict \n",
      "{'diag_basic_info': {'compare_obs': False, 'create_html': True, 'obs_data_loc': '/glade/work/nusbaume/SE_projects/model_diagnostics/ADF_obs', 'cam_regrid_loc': '/some/where/you/want/to/have/regridded_files', 'cam_overwrite_regrid': False, 'cam_diag_plot_loc': '/some/where/you/want/to/have/diag_plots', 'use_defaults': True, 'plot_press_levels': [200, 850], 'central_longitude': 180, 'weight_season': True, 'num_procs': 8}, 'diag_cam_climo': {'calc_cam_climo': True, 'cam_overwrite_climo': False, 'cam_case_name': 'b.e20.BHIST.f09_g17.20thC.297_05', 'cam_hist_loc': '/glade/p/cesm/ADF/b.e20.BHIST.f09_g17.20thC.297_05/', 'cam_climo_loc': '/some/where/you/want/to/have/climo_files/', 'start_year': 1990, 'end_year': 1999, 'cam_ts_done': False, 'cam_ts_save': True, 'cam_overwrite_ts': False, 'cam_ts_loc': '/some/where/you/want/to/have/time_series_files/'}, 'diag_cam_baseline_climo': {'calc_cam_climo': True, 'cam_overwrite_climo': False, 'cam_case_name': 'b.e20.BHIST.f09_g16.20thC.125.02', 'cam_hist_loc': '/glade/p/cesm/ADF/b.e20.BHIST.f09_g16.20thC.125.02/', 'cam_climo_loc': '/some/where/you/want/to/have/baseline_climo_files/', 'start_year': 1990, 'end_year': 1999, 'cam_ts_done': False, 'cam_ts_save': True, 'cam_overwrite_ts': False, 'cam_ts_loc': '/some/where/you/want/to/have/baseline_time_series_files/'}, 'diag_cvdp_info': {'cvdp_run': False, 'cvdp_codebase_loc': '/glade/u/home/asphilli/CESM-diagnostics/CVDP/Release/v5.2.0/', 'cvdp_loc': '/glade/scratch/asphilli/ADF-Sandbox/cvdp/', 'cvdp_tar': False}, 'time_averaging_scripts': ['create_climo_files'], 'regridding_scripts': ['regrid_example'], 'analysis_scripts': ['amwg_table'], 'plotting_scripts': ['global_latlon_map', 'global_latlon_vect_map', 'zonal_mean', 'polar_map'], 'diag_var_list': ['SWCF', 'LWCF', 'PRECC', 'PRECL', 'PSL', 'Q', 'TREFHT', 'TS', 'TAUX', 'TAUY']}\n",
      "read_config_var L268 : found conf_dict\n",
      "DRB read_config_var got dict \n",
      "{'compare_obs': False, 'create_html': True, 'obs_data_loc': '/glade/work/nusbaume/SE_projects/model_diagnostics/ADF_obs', 'cam_regrid_loc': '/some/where/you/want/to/have/regridded_files', 'cam_overwrite_regrid': False, 'cam_diag_plot_loc': '/some/where/you/want/to/have/diag_plots', 'use_defaults': True, 'plot_press_levels': [200, 850], 'central_longitude': 180, 'weight_season': True, 'num_procs': 8}\n",
      "read_config_var L268 : found conf_dict\n",
      "DRB read_config_var got dict \n",
      "{'compare_obs': False, 'create_html': True, 'obs_data_loc': '/glade/work/nusbaume/SE_projects/model_diagnostics/ADF_obs', 'cam_regrid_loc': '/some/where/you/want/to/have/regridded_files', 'cam_overwrite_regrid': False, 'cam_diag_plot_loc': '/some/where/you/want/to/have/diag_plots', 'use_defaults': True, 'plot_press_levels': [200, 850], 'central_longitude': 180, 'weight_season': True, 'num_procs': 8}\n",
      "read_config_var L271 : using self.__config_dict \n",
      "DRB read_config_var got dict \n",
      "{'diag_basic_info': {'compare_obs': False, 'create_html': True, 'obs_data_loc': '/glade/work/nusbaume/SE_projects/model_diagnostics/ADF_obs', 'cam_regrid_loc': '/some/where/you/want/to/have/regridded_files', 'cam_overwrite_regrid': False, 'cam_diag_plot_loc': '/some/where/you/want/to/have/diag_plots', 'use_defaults': True, 'plot_press_levels': [200, 850], 'central_longitude': 180, 'weight_season': True, 'num_procs': 8}, 'diag_cam_climo': {'calc_cam_climo': True, 'cam_overwrite_climo': False, 'cam_case_name': 'b.e20.BHIST.f09_g17.20thC.297_05', 'cam_hist_loc': '/glade/p/cesm/ADF/b.e20.BHIST.f09_g17.20thC.297_05/', 'cam_climo_loc': '/some/where/you/want/to/have/climo_files/', 'start_year': 1990, 'end_year': 1999, 'cam_ts_done': False, 'cam_ts_save': True, 'cam_overwrite_ts': False, 'cam_ts_loc': '/some/where/you/want/to/have/time_series_files/'}, 'diag_cam_baseline_climo': {'calc_cam_climo': True, 'cam_overwrite_climo': False, 'cam_case_name': 'b.e20.BHIST.f09_g16.20thC.125.02', 'cam_hist_loc': '/glade/p/cesm/ADF/b.e20.BHIST.f09_g16.20thC.125.02/', 'cam_climo_loc': '/some/where/you/want/to/have/baseline_climo_files/', 'start_year': 1990, 'end_year': 1999, 'cam_ts_done': False, 'cam_ts_save': True, 'cam_overwrite_ts': False, 'cam_ts_loc': '/some/where/you/want/to/have/baseline_time_series_files/'}, 'diag_cvdp_info': {'cvdp_run': False, 'cvdp_codebase_loc': '/glade/u/home/asphilli/CESM-diagnostics/CVDP/Release/v5.2.0/', 'cvdp_loc': '/glade/scratch/asphilli/ADF-Sandbox/cvdp/', 'cvdp_tar': False}, 'time_averaging_scripts': ['create_climo_files'], 'regridding_scripts': ['regrid_example'], 'analysis_scripts': ['amwg_table'], 'plotting_scripts': ['global_latlon_map', 'global_latlon_vect_map', 'zonal_mean', 'polar_map'], 'diag_var_list': ['SWCF', 'LWCF', 'PRECC', 'PRECL', 'PSL', 'Q', 'TREFHT', 'TS', 'TAUX', 'TAUY']}\n",
      "read_config_var L271 : using self.__config_dict \n",
      "DRB read_config_var got dict \n",
      "{'diag_basic_info': {'compare_obs': False, 'create_html': True, 'obs_data_loc': '/glade/work/nusbaume/SE_projects/model_diagnostics/ADF_obs', 'cam_regrid_loc': '/some/where/you/want/to/have/regridded_files', 'cam_overwrite_regrid': False, 'cam_diag_plot_loc': '/some/where/you/want/to/have/diag_plots', 'use_defaults': True, 'plot_press_levels': [200, 850], 'central_longitude': 180, 'weight_season': True, 'num_procs': 8}, 'diag_cam_climo': {'calc_cam_climo': True, 'cam_overwrite_climo': False, 'cam_case_name': 'b.e20.BHIST.f09_g17.20thC.297_05', 'cam_hist_loc': '/glade/p/cesm/ADF/b.e20.BHIST.f09_g17.20thC.297_05/', 'cam_climo_loc': '/some/where/you/want/to/have/climo_files/', 'start_year': 1990, 'end_year': 1999, 'cam_ts_done': False, 'cam_ts_save': True, 'cam_overwrite_ts': False, 'cam_ts_loc': '/some/where/you/want/to/have/time_series_files/'}, 'diag_cam_baseline_climo': {'calc_cam_climo': True, 'cam_overwrite_climo': False, 'cam_case_name': 'b.e20.BHIST.f09_g16.20thC.125.02', 'cam_hist_loc': '/glade/p/cesm/ADF/b.e20.BHIST.f09_g16.20thC.125.02/', 'cam_climo_loc': '/some/where/you/want/to/have/baseline_climo_files/', 'start_year': 1990, 'end_year': 1999, 'cam_ts_done': False, 'cam_ts_save': True, 'cam_overwrite_ts': False, 'cam_ts_loc': '/some/where/you/want/to/have/baseline_time_series_files/'}, 'diag_cvdp_info': {'cvdp_run': False, 'cvdp_codebase_loc': '/glade/u/home/asphilli/CESM-diagnostics/CVDP/Release/v5.2.0/', 'cvdp_loc': '/glade/scratch/asphilli/ADF-Sandbox/cvdp/', 'cvdp_tar': False}, 'time_averaging_scripts': ['create_climo_files'], 'regridding_scripts': ['regrid_example'], 'analysis_scripts': ['amwg_table'], 'plotting_scripts': ['global_latlon_map', 'global_latlon_vect_map', 'zonal_mean', 'polar_map'], 'diag_var_list': ['SWCF', 'LWCF', 'PRECC', 'PRECL', 'PSL', 'Q', 'TREFHT', 'TS', 'TAUX', 'TAUY']}\n",
      "read_config_var L271 : using self.__config_dict \n",
      "DRB read_config_var got dict \n",
      "{'diag_basic_info': {'compare_obs': False, 'create_html': True, 'obs_data_loc': '/glade/work/nusbaume/SE_projects/model_diagnostics/ADF_obs', 'cam_regrid_loc': '/some/where/you/want/to/have/regridded_files', 'cam_overwrite_regrid': False, 'cam_diag_plot_loc': '/some/where/you/want/to/have/diag_plots', 'use_defaults': True, 'plot_press_levels': [200, 850], 'central_longitude': 180, 'weight_season': True, 'num_procs': 8}, 'diag_cam_climo': {'calc_cam_climo': True, 'cam_overwrite_climo': False, 'cam_case_name': 'b.e20.BHIST.f09_g17.20thC.297_05', 'cam_hist_loc': '/glade/p/cesm/ADF/b.e20.BHIST.f09_g17.20thC.297_05/', 'cam_climo_loc': '/some/where/you/want/to/have/climo_files/', 'start_year': 1990, 'end_year': 1999, 'cam_ts_done': False, 'cam_ts_save': True, 'cam_overwrite_ts': False, 'cam_ts_loc': '/some/where/you/want/to/have/time_series_files/'}, 'diag_cam_baseline_climo': {'calc_cam_climo': True, 'cam_overwrite_climo': False, 'cam_case_name': 'b.e20.BHIST.f09_g16.20thC.125.02', 'cam_hist_loc': '/glade/p/cesm/ADF/b.e20.BHIST.f09_g16.20thC.125.02/', 'cam_climo_loc': '/some/where/you/want/to/have/baseline_climo_files/', 'start_year': 1990, 'end_year': 1999, 'cam_ts_done': False, 'cam_ts_save': True, 'cam_overwrite_ts': False, 'cam_ts_loc': '/some/where/you/want/to/have/baseline_time_series_files/'}, 'diag_cvdp_info': {'cvdp_run': False, 'cvdp_codebase_loc': '/glade/u/home/asphilli/CESM-diagnostics/CVDP/Release/v5.2.0/', 'cvdp_loc': '/glade/scratch/asphilli/ADF-Sandbox/cvdp/', 'cvdp_tar': False}, 'time_averaging_scripts': ['create_climo_files'], 'regridding_scripts': ['regrid_example'], 'analysis_scripts': ['amwg_table'], 'plotting_scripts': ['global_latlon_map', 'global_latlon_vect_map', 'zonal_mean', 'polar_map'], 'diag_var_list': ['SWCF', 'LWCF', 'PRECC', 'PRECL', 'PSL', 'Q', 'TREFHT', 'TS', 'TAUX', 'TAUY']}\n",
      "read_config_var L268 : found conf_dict\n",
      "DRB read_config_var got dict \n",
      "{'calc_cam_climo': True, 'cam_overwrite_climo': False, 'cam_case_name': 'b.e20.BHIST.f09_g17.20thC.297_05', 'cam_hist_loc': '/glade/p/cesm/ADF/b.e20.BHIST.f09_g17.20thC.297_05/', 'cam_climo_loc': '/some/where/you/want/to/have/climo_files/', 'start_year': 1990, 'end_year': 1999, 'cam_ts_done': False, 'cam_ts_save': True, 'cam_overwrite_ts': False, 'cam_ts_loc': '/some/where/you/want/to/have/time_series_files/'}\n",
      "read_config_var L271 : using self.__config_dict \n",
      "DRB read_config_var got dict \n",
      "{'diag_basic_info': {'compare_obs': False, 'create_html': True, 'obs_data_loc': '/glade/work/nusbaume/SE_projects/model_diagnostics/ADF_obs', 'cam_regrid_loc': '/some/where/you/want/to/have/regridded_files', 'cam_overwrite_regrid': False, 'cam_diag_plot_loc': '/some/where/you/want/to/have/diag_plots', 'use_defaults': True, 'plot_press_levels': [200, 850], 'central_longitude': 180, 'weight_season': True, 'num_procs': 8}, 'diag_cam_climo': {'calc_cam_climo': True, 'cam_overwrite_climo': False, 'cam_case_name': 'b.e20.BHIST.f09_g17.20thC.297_05', 'cam_hist_loc': '/glade/p/cesm/ADF/b.e20.BHIST.f09_g17.20thC.297_05/', 'cam_climo_loc': '/some/where/you/want/to/have/climo_files/', 'start_year': 1990, 'end_year': 1999, 'cam_ts_done': False, 'cam_ts_save': True, 'cam_overwrite_ts': False, 'cam_ts_loc': '/some/where/you/want/to/have/time_series_files/'}, 'diag_cam_baseline_climo': {'calc_cam_climo': True, 'cam_overwrite_climo': False, 'cam_case_name': 'b.e20.BHIST.f09_g16.20thC.125.02', 'cam_hist_loc': '/glade/p/cesm/ADF/b.e20.BHIST.f09_g16.20thC.125.02/', 'cam_climo_loc': '/some/where/you/want/to/have/baseline_climo_files/', 'start_year': 1990, 'end_year': 1999, 'cam_ts_done': False, 'cam_ts_save': True, 'cam_overwrite_ts': False, 'cam_ts_loc': '/some/where/you/want/to/have/baseline_time_series_files/'}, 'diag_cvdp_info': {'cvdp_run': False, 'cvdp_codebase_loc': '/glade/u/home/asphilli/CESM-diagnostics/CVDP/Release/v5.2.0/', 'cvdp_loc': '/glade/scratch/asphilli/ADF-Sandbox/cvdp/', 'cvdp_tar': False}, 'time_averaging_scripts': ['create_climo_files'], 'regridding_scripts': ['regrid_example'], 'analysis_scripts': ['amwg_table'], 'plotting_scripts': ['global_latlon_map', 'global_latlon_vect_map', 'zonal_mean', 'polar_map'], 'diag_var_list': ['SWCF', 'LWCF', 'PRECC', 'PRECL', 'PSL', 'Q', 'TREFHT', 'TS', 'TAUX', 'TAUY']}\n",
      "read_config_var L271 : using self.__config_dict \n",
      "DRB read_config_var got dict \n",
      "{'diag_basic_info': {'compare_obs': False, 'create_html': True, 'obs_data_loc': '/glade/work/nusbaume/SE_projects/model_diagnostics/ADF_obs', 'cam_regrid_loc': '/some/where/you/want/to/have/regridded_files', 'cam_overwrite_regrid': False, 'cam_diag_plot_loc': '/some/where/you/want/to/have/diag_plots', 'use_defaults': True, 'plot_press_levels': [200, 850], 'central_longitude': 180, 'weight_season': True, 'num_procs': 8}, 'diag_cam_climo': {'calc_cam_climo': True, 'cam_overwrite_climo': False, 'cam_case_name': 'b.e20.BHIST.f09_g17.20thC.297_05', 'cam_hist_loc': '/glade/p/cesm/ADF/b.e20.BHIST.f09_g17.20thC.297_05/', 'cam_climo_loc': '/some/where/you/want/to/have/climo_files/', 'start_year': 1990, 'end_year': 1999, 'cam_ts_done': False, 'cam_ts_save': True, 'cam_overwrite_ts': False, 'cam_ts_loc': '/some/where/you/want/to/have/time_series_files/'}, 'diag_cam_baseline_climo': {'calc_cam_climo': True, 'cam_overwrite_climo': False, 'cam_case_name': 'b.e20.BHIST.f09_g16.20thC.125.02', 'cam_hist_loc': '/glade/p/cesm/ADF/b.e20.BHIST.f09_g16.20thC.125.02/', 'cam_climo_loc': '/some/where/you/want/to/have/baseline_climo_files/', 'start_year': 1990, 'end_year': 1999, 'cam_ts_done': False, 'cam_ts_save': True, 'cam_overwrite_ts': False, 'cam_ts_loc': '/some/where/you/want/to/have/baseline_time_series_files/'}, 'diag_cvdp_info': {'cvdp_run': False, 'cvdp_codebase_loc': '/glade/u/home/asphilli/CESM-diagnostics/CVDP/Release/v5.2.0/', 'cvdp_loc': '/glade/scratch/asphilli/ADF-Sandbox/cvdp/', 'cvdp_tar': False}, 'time_averaging_scripts': ['create_climo_files'], 'regridding_scripts': ['regrid_example'], 'analysis_scripts': ['amwg_table'], 'plotting_scripts': ['global_latlon_map', 'global_latlon_vect_map', 'zonal_mean', 'polar_map'], 'diag_var_list': ['SWCF', 'LWCF', 'PRECC', 'PRECL', 'PSL', 'Q', 'TREFHT', 'TS', 'TAUX', 'TAUY']}\n",
      "read_config_var L271 : using self.__config_dict \n",
      "DRB read_config_var got dict \n",
      "{'diag_basic_info': {'compare_obs': False, 'create_html': True, 'obs_data_loc': '/glade/work/nusbaume/SE_projects/model_diagnostics/ADF_obs', 'cam_regrid_loc': '/some/where/you/want/to/have/regridded_files', 'cam_overwrite_regrid': False, 'cam_diag_plot_loc': '/some/where/you/want/to/have/diag_plots', 'use_defaults': True, 'plot_press_levels': [200, 850], 'central_longitude': 180, 'weight_season': True, 'num_procs': 8}, 'diag_cam_climo': {'calc_cam_climo': True, 'cam_overwrite_climo': False, 'cam_case_name': 'b.e20.BHIST.f09_g17.20thC.297_05', 'cam_hist_loc': '/glade/p/cesm/ADF/b.e20.BHIST.f09_g17.20thC.297_05/', 'cam_climo_loc': '/some/where/you/want/to/have/climo_files/', 'start_year': 1990, 'end_year': 1999, 'cam_ts_done': False, 'cam_ts_save': True, 'cam_overwrite_ts': False, 'cam_ts_loc': '/some/where/you/want/to/have/time_series_files/'}, 'diag_cam_baseline_climo': {'calc_cam_climo': True, 'cam_overwrite_climo': False, 'cam_case_name': 'b.e20.BHIST.f09_g16.20thC.125.02', 'cam_hist_loc': '/glade/p/cesm/ADF/b.e20.BHIST.f09_g16.20thC.125.02/', 'cam_climo_loc': '/some/where/you/want/to/have/baseline_climo_files/', 'start_year': 1990, 'end_year': 1999, 'cam_ts_done': False, 'cam_ts_save': True, 'cam_overwrite_ts': False, 'cam_ts_loc': '/some/where/you/want/to/have/baseline_time_series_files/'}, 'diag_cvdp_info': {'cvdp_run': False, 'cvdp_codebase_loc': '/glade/u/home/asphilli/CESM-diagnostics/CVDP/Release/v5.2.0/', 'cvdp_loc': '/glade/scratch/asphilli/ADF-Sandbox/cvdp/', 'cvdp_tar': False}, 'time_averaging_scripts': ['create_climo_files'], 'regridding_scripts': ['regrid_example'], 'analysis_scripts': ['amwg_table'], 'plotting_scripts': ['global_latlon_map', 'global_latlon_vect_map', 'zonal_mean', 'polar_map'], 'diag_var_list': ['SWCF', 'LWCF', 'PRECC', 'PRECL', 'PSL', 'Q', 'TREFHT', 'TS', 'TAUX', 'TAUY']}\n",
      "read_config_var L271 : using self.__config_dict \n",
      "DRB read_config_var got dict \n",
      "{'diag_basic_info': {'compare_obs': False, 'create_html': True, 'obs_data_loc': '/glade/work/nusbaume/SE_projects/model_diagnostics/ADF_obs', 'cam_regrid_loc': '/some/where/you/want/to/have/regridded_files', 'cam_overwrite_regrid': False, 'cam_diag_plot_loc': '/some/where/you/want/to/have/diag_plots', 'use_defaults': True, 'plot_press_levels': [200, 850], 'central_longitude': 180, 'weight_season': True, 'num_procs': 8}, 'diag_cam_climo': {'calc_cam_climo': True, 'cam_overwrite_climo': False, 'cam_case_name': 'b.e20.BHIST.f09_g17.20thC.297_05', 'cam_hist_loc': '/glade/p/cesm/ADF/b.e20.BHIST.f09_g17.20thC.297_05/', 'cam_climo_loc': '/some/where/you/want/to/have/climo_files/', 'start_year': 1990, 'end_year': 1999, 'cam_ts_done': False, 'cam_ts_save': True, 'cam_overwrite_ts': False, 'cam_ts_loc': '/some/where/you/want/to/have/time_series_files/'}, 'diag_cam_baseline_climo': {'calc_cam_climo': True, 'cam_overwrite_climo': False, 'cam_case_name': 'b.e20.BHIST.f09_g16.20thC.125.02', 'cam_hist_loc': '/glade/p/cesm/ADF/b.e20.BHIST.f09_g16.20thC.125.02/', 'cam_climo_loc': '/some/where/you/want/to/have/baseline_climo_files/', 'start_year': 1990, 'end_year': 1999, 'cam_ts_done': False, 'cam_ts_save': True, 'cam_overwrite_ts': False, 'cam_ts_loc': '/some/where/you/want/to/have/baseline_time_series_files/'}, 'diag_cvdp_info': {'cvdp_run': False, 'cvdp_codebase_loc': '/glade/u/home/asphilli/CESM-diagnostics/CVDP/Release/v5.2.0/', 'cvdp_loc': '/glade/scratch/asphilli/ADF-Sandbox/cvdp/', 'cvdp_tar': False}, 'time_averaging_scripts': ['create_climo_files'], 'regridding_scripts': ['regrid_example'], 'analysis_scripts': ['amwg_table'], 'plotting_scripts': ['global_latlon_map', 'global_latlon_vect_map', 'zonal_mean', 'polar_map'], 'diag_var_list': ['SWCF', 'LWCF', 'PRECC', 'PRECL', 'PSL', 'Q', 'TREFHT', 'TS', 'TAUX', 'TAUY']}\n",
      "read_config_var L271 : using self.__config_dict \n",
      "DRB read_config_var got dict \n",
      "{'diag_basic_info': {'compare_obs': False, 'create_html': True, 'obs_data_loc': '/glade/work/nusbaume/SE_projects/model_diagnostics/ADF_obs', 'cam_regrid_loc': '/some/where/you/want/to/have/regridded_files', 'cam_overwrite_regrid': False, 'cam_diag_plot_loc': '/some/where/you/want/to/have/diag_plots', 'use_defaults': True, 'plot_press_levels': [200, 850], 'central_longitude': 180, 'weight_season': True, 'num_procs': 8}, 'diag_cam_climo': {'calc_cam_climo': True, 'cam_overwrite_climo': False, 'cam_case_name': 'b.e20.BHIST.f09_g17.20thC.297_05', 'cam_hist_loc': '/glade/p/cesm/ADF/b.e20.BHIST.f09_g17.20thC.297_05/', 'cam_climo_loc': '/some/where/you/want/to/have/climo_files/', 'start_year': 1990, 'end_year': 1999, 'cam_ts_done': False, 'cam_ts_save': True, 'cam_overwrite_ts': False, 'cam_ts_loc': '/some/where/you/want/to/have/time_series_files/'}, 'diag_cam_baseline_climo': {'calc_cam_climo': True, 'cam_overwrite_climo': False, 'cam_case_name': 'b.e20.BHIST.f09_g16.20thC.125.02', 'cam_hist_loc': '/glade/p/cesm/ADF/b.e20.BHIST.f09_g16.20thC.125.02/', 'cam_climo_loc': '/some/where/you/want/to/have/baseline_climo_files/', 'start_year': 1990, 'end_year': 1999, 'cam_ts_done': False, 'cam_ts_save': True, 'cam_overwrite_ts': False, 'cam_ts_loc': '/some/where/you/want/to/have/baseline_time_series_files/'}, 'diag_cvdp_info': {'cvdp_run': False, 'cvdp_codebase_loc': '/glade/u/home/asphilli/CESM-diagnostics/CVDP/Release/v5.2.0/', 'cvdp_loc': '/glade/scratch/asphilli/ADF-Sandbox/cvdp/', 'cvdp_tar': False}, 'time_averaging_scripts': ['create_climo_files'], 'regridding_scripts': ['regrid_example'], 'analysis_scripts': ['amwg_table'], 'plotting_scripts': ['global_latlon_map', 'global_latlon_vect_map', 'zonal_mean', 'polar_map'], 'diag_var_list': ['SWCF', 'LWCF', 'PRECC', 'PRECL', 'PSL', 'Q', 'TREFHT', 'TS', 'TAUX', 'TAUY']}\n"
     ]
    },
    {
     "data": {
      "text/plain": [
       "<adf_diag.AdfDiag at 0x2addaff14790>"
      ]
     },
     "execution_count": 6,
     "metadata": {},
     "output_type": "execute_result"
    }
   ],
   "source": [
    "#Initialize ADF object\n",
    "adf = AdfDiag(config_file)\n",
    "adf"
   ]
  },
  {
   "cell_type": "code",
   "execution_count": 7,
   "id": "5ab48b79-dac8-411c-89aa-5f83d382b25d",
   "metadata": {},
   "outputs": [
    {
     "name": "stdout",
     "output_type": "stream",
     "text": [
      "read_config_var L271 : using self.__config_dict \n",
      "DRB read_config_var got dict \n",
      "{'diag_basic_info': {'compare_obs': False, 'create_html': True, 'obs_data_loc': '/glade/work/nusbaume/SE_projects/model_diagnostics/ADF_obs', 'cam_regrid_loc': '/some/where/you/want/to/have/regridded_files', 'cam_overwrite_regrid': False, 'cam_diag_plot_loc': '/some/where/you/want/to/have/diag_plots', 'use_defaults': True, 'plot_press_levels': [200, 850], 'central_longitude': 180, 'weight_season': True, 'num_procs': 8}, 'diag_cam_climo': {'calc_cam_climo': True, 'cam_overwrite_climo': False, 'cam_case_name': 'b.e20.BHIST.f09_g17.20thC.297_05', 'cam_hist_loc': '/glade/p/cesm/ADF/b.e20.BHIST.f09_g17.20thC.297_05/', 'cam_climo_loc': '/some/where/you/want/to/have/climo_files/', 'start_year': 1990, 'end_year': 1999, 'cam_ts_done': False, 'cam_ts_save': True, 'cam_overwrite_ts': False, 'cam_ts_loc': '/some/where/you/want/to/have/time_series_files/'}, 'diag_cam_baseline_climo': {'calc_cam_climo': True, 'cam_overwrite_climo': False, 'cam_case_name': 'b.e20.BHIST.f09_g16.20thC.125.02', 'cam_hist_loc': '/glade/p/cesm/ADF/b.e20.BHIST.f09_g16.20thC.125.02/', 'cam_climo_loc': '/some/where/you/want/to/have/baseline_climo_files/', 'start_year': 1990, 'end_year': 1999, 'cam_ts_done': False, 'cam_ts_save': True, 'cam_overwrite_ts': False, 'cam_ts_loc': '/some/where/you/want/to/have/baseline_time_series_files/'}, 'diag_cvdp_info': {'cvdp_run': False, 'cvdp_codebase_loc': '/glade/u/home/asphilli/CESM-diagnostics/CVDP/Release/v5.2.0/', 'cvdp_loc': '/glade/scratch/asphilli/ADF-Sandbox/cvdp/', 'cvdp_tar': False}, 'time_averaging_scripts': ['create_climo_files'], 'regridding_scripts': ['regrid_example'], 'analysis_scripts': ['amwg_table'], 'plotting_scripts': ['global_latlon_map', 'global_latlon_vect_map', 'zonal_mean', 'polar_map'], 'diag_var_list': ['SWCF', 'LWCF', 'PRECC', 'PRECL', 'PSL', 'Q', 'TREFHT', 'TS', 'TAUX', 'TAUY']}\n",
      "{'compare_obs': False, 'create_html': True, 'obs_data_loc': '/glade/work/nusbaume/SE_projects/model_diagnostics/ADF_obs', 'cam_regrid_loc': '/some/where/you/want/to/have/regridded_files', 'cam_overwrite_regrid': False, 'cam_diag_plot_loc': '/some/where/you/want/to/have/diag_plots', 'use_defaults': True, 'plot_press_levels': [200, 850], 'central_longitude': 180, 'weight_season': True, 'num_procs': 8}\n"
     ]
    }
   ],
   "source": [
    "basic_info_dict = adf.read_config_var(\"diag_basic_info\")\n",
    "print(basic_info_dict)"
   ]
  },
  {
   "cell_type": "code",
   "execution_count": 8,
   "id": "fdc5fd16-7d5d-4215-b35f-d64b7a6f0bd8",
   "metadata": {},
   "outputs": [
    {
     "name": "stdout",
     "output_type": "stream",
     "text": [
      "DRB get_basic_info sending in self.__basic_info\n",
      "read_config_var L268 : found conf_dict\n",
      "DRB read_config_var got dict \n",
      "{'compare_obs': False, 'create_html': True, 'obs_data_loc': '/glade/work/nusbaume/SE_projects/model_diagnostics/ADF_obs', 'cam_regrid_loc': '/some/where/you/want/to/have/regridded_files', 'cam_overwrite_regrid': False, 'cam_diag_plot_loc': '/some/where/you/want/to/have/diag_plots', 'use_defaults': True, 'plot_press_levels': [200, 850], 'central_longitude': 180, 'weight_season': True, 'num_procs': 8}\n",
      "get basic info found compare_obs =  False\n"
     ]
    }
   ],
   "source": [
    "test = adf.get_basic_info('compare_obs')\n",
    "print(\"get basic info found compare_obs = \",test)"
   ]
  },
  {
   "cell_type": "code",
   "execution_count": 9,
   "id": "07e9cc6a-9de3-4247-b8fd-46e642f5d061",
   "metadata": {},
   "outputs": [
    {
     "name": "stdout",
     "output_type": "stream",
     "text": [
      "read_config_var L271 : using self.__config_dict \n",
      "DRB read_config_var got dict \n",
      "{'diag_basic_info': {'compare_obs': False, 'create_html': True, 'obs_data_loc': '/glade/work/nusbaume/SE_projects/model_diagnostics/ADF_obs', 'cam_regrid_loc': '/some/where/you/want/to/have/regridded_files', 'cam_overwrite_regrid': False, 'cam_diag_plot_loc': '/some/where/you/want/to/have/diag_plots', 'use_defaults': True, 'plot_press_levels': [200, 850], 'central_longitude': 180, 'weight_season': True, 'num_procs': 8}, 'diag_cam_climo': {'calc_cam_climo': True, 'cam_overwrite_climo': False, 'cam_case_name': 'b.e20.BHIST.f09_g17.20thC.297_05', 'cam_hist_loc': '/glade/p/cesm/ADF/b.e20.BHIST.f09_g17.20thC.297_05/', 'cam_climo_loc': '/some/where/you/want/to/have/climo_files/', 'start_year': 1990, 'end_year': 1999, 'cam_ts_done': False, 'cam_ts_save': True, 'cam_overwrite_ts': False, 'cam_ts_loc': '/some/where/you/want/to/have/time_series_files/'}, 'diag_cam_baseline_climo': {'calc_cam_climo': True, 'cam_overwrite_climo': False, 'cam_case_name': 'b.e20.BHIST.f09_g16.20thC.125.02', 'cam_hist_loc': '/glade/p/cesm/ADF/b.e20.BHIST.f09_g16.20thC.125.02/', 'cam_climo_loc': '/some/where/you/want/to/have/baseline_climo_files/', 'start_year': 1990, 'end_year': 1999, 'cam_ts_done': False, 'cam_ts_save': True, 'cam_overwrite_ts': False, 'cam_ts_loc': '/some/where/you/want/to/have/baseline_time_series_files/'}, 'diag_cvdp_info': {'cvdp_run': False, 'cvdp_codebase_loc': '/glade/u/home/asphilli/CESM-diagnostics/CVDP/Release/v5.2.0/', 'cvdp_loc': '/glade/scratch/asphilli/ADF-Sandbox/cvdp/', 'cvdp_tar': False}, 'time_averaging_scripts': ['create_climo_files'], 'regridding_scripts': ['regrid_example'], 'analysis_scripts': ['amwg_table'], 'plotting_scripts': ['global_latlon_map', 'global_latlon_vect_map', 'zonal_mean', 'polar_map'], 'diag_var_list': ['SWCF', 'LWCF', 'PRECC', 'PRECL', 'PSL', 'Q', 'TREFHT', 'TS', 'TAUX', 'TAUY']}\n",
      "compare_obs  None\n"
     ]
    }
   ],
   "source": [
    "test2 = adf.read_config_var('compare_obs')\n",
    "print(\"compare_obs \",test2)"
   ]
  },
  {
   "cell_type": "code",
   "execution_count": 10,
   "id": "70208151-6d4d-4317-a068-c7bb8fb930a2",
   "metadata": {},
   "outputs": [],
   "source": [
    "# adf.update_config_var('fake_configure_param', 1, )\n",
    "# this can't really work right because we can't send the dict that is required\n",
    "# dir(adf)"
   ]
  },
  {
   "cell_type": "code",
   "execution_count": 10,
   "id": "297e8ec7-6429-4303-a425-c923dbb226cc",
   "metadata": {},
   "outputs": [
    {
     "name": "stdout",
     "output_type": "stream",
     "text": [
      "WARNING: did not find fake_configure_param in provided dict: \n",
      "{'compare_obs': False, 'create_html': True, 'obs_data_loc': '/glade/work/nusbaume/SE_projects/model_diagnostics/ADF_obs', 'cam_regrid_loc': '/some/where/you/want/to/have/regridded_files', 'cam_overwrite_regrid': False, 'cam_diag_plot_loc': '/some/where/you/want/to/have/diag_plots', 'use_defaults': True, 'plot_press_levels': [200, 850], 'central_longitude': 180, 'weight_season': True, 'num_procs': 8}\n"
     ]
    }
   ],
   "source": [
    "adf.set_basic_info(\"fake_configure_param\", [\"one\", \"two\"])"
   ]
  },
  {
   "cell_type": "code",
   "execution_count": 11,
   "id": "fd9ed1af-4d76-4f3f-9af1-c3fa5df65f1f",
   "metadata": {},
   "outputs": [
    {
     "name": "stdout",
     "output_type": "stream",
     "text": [
      "DRB get_basic_info sending in self.__basic_info\n",
      "read_config_var L268 : found conf_dict\n",
      "DRB read_config_var got dict \n",
      "{'compare_obs': False, 'create_html': True, 'obs_data_loc': '/glade/work/nusbaume/SE_projects/model_diagnostics/ADF_obs', 'cam_regrid_loc': '/some/where/you/want/to/have/regridded_files', 'cam_overwrite_regrid': False, 'cam_diag_plot_loc': '/some/where/you/want/to/have/diag_plots', 'use_defaults': True, 'plot_press_levels': [200, 850], 'central_longitude': 180, 'weight_season': True, 'num_procs': 8, 'fake_configure_param': ['one', 'two']}\n"
     ]
    },
    {
     "data": {
      "text/plain": [
       "['one', 'two']"
      ]
     },
     "execution_count": 11,
     "metadata": {},
     "output_type": "execute_result"
    }
   ],
   "source": [
    "# Modify variables in config file\n",
    "# adf.update_config_var('compare_obs',True)\n",
    "\n",
    "adf.get_basic_info(\"fake_configure_param\")"
   ]
  },
  {
   "cell_type": "code",
   "execution_count": 19,
   "id": "2e18b458-577f-45b8-8098-e5615299ac7e",
   "metadata": {},
   "outputs": [
    {
     "name": "stdout",
     "output_type": "stream",
     "text": [
      "read_config_var L271 : using self.__config_dict \n",
      "DRB read_config_var got dict \n",
      "{'diag_basic_info': {'compare_obs': False, 'create_html': True, 'obs_data_loc': '/glade/work/nusbaume/SE_projects/model_diagnostics/ADF_obs', 'cam_regrid_loc': '/some/where/you/want/to/have/regridded_files', 'cam_overwrite_regrid': False, 'cam_diag_plot_loc': '/some/where/you/want/to/have/diag_plots', 'use_defaults': True, 'plot_press_levels': [200, 850], 'central_longitude': 180, 'weight_season': True, 'num_procs': 8}, 'diag_cam_climo': {'calc_cam_climo': True, 'cam_overwrite_climo': False, 'cam_case_name': 'b.e20.BHIST.f09_g17.20thC.297_05', 'cam_hist_loc': '/glade/p/cesm/ADF/b.e20.BHIST.f09_g17.20thC.297_05/', 'cam_climo_loc': '/some/where/you/want/to/have/climo_files/', 'start_year': 1990, 'end_year': 1999, 'cam_ts_done': False, 'cam_ts_save': True, 'cam_overwrite_ts': False, 'cam_ts_loc': '/some/where/you/want/to/have/time_series_files/'}, 'diag_cam_baseline_climo': {'calc_cam_climo': True, 'cam_overwrite_climo': False, 'cam_case_name': 'b.e20.BHIST.f09_g16.20thC.125.02', 'cam_hist_loc': '/glade/p/cesm/ADF/b.e20.BHIST.f09_g16.20thC.125.02/', 'cam_climo_loc': '/some/where/you/want/to/have/baseline_climo_files/', 'start_year': 1990, 'end_year': 1999, 'cam_ts_done': False, 'cam_ts_save': True, 'cam_overwrite_ts': False, 'cam_ts_loc': '/some/where/you/want/to/have/baseline_time_series_files/'}, 'diag_cvdp_info': {'cvdp_run': False, 'cvdp_codebase_loc': '/glade/u/home/asphilli/CESM-diagnostics/CVDP/Release/v5.2.0/', 'cvdp_loc': '/glade/scratch/asphilli/ADF-Sandbox/cvdp/', 'cvdp_tar': False}, 'time_averaging_scripts': ['create_climo_files'], 'regridding_scripts': ['regrid_example'], 'analysis_scripts': ['amwg_table'], 'plotting_scripts': ['global_latlon_map', 'global_latlon_vect_map', 'zonal_mean', 'polar_map'], 'diag_var_list': ['SWCF', 'LWCF', 'PRECC', 'PRECL', 'PSL', 'Q', 'TREFHT', 'TS', 'TAUX', 'TAUY']}\n",
      "{'compare_obs': False, 'create_html': True, 'obs_data_loc': '/glade/work/nusbaume/SE_projects/model_diagnostics/ADF_obs', 'cam_regrid_loc': '/some/where/you/want/to/have/regridded_files', 'cam_overwrite_regrid': False, 'cam_diag_plot_loc': '/some/where/you/want/to/have/diag_plots', 'use_defaults': True, 'plot_press_levels': [200, 850], 'central_longitude': 180, 'weight_season': True, 'num_procs': 8}\n"
     ]
    }
   ],
   "source": [
    "basic_info_dict = adf.read_config_var(\"diag_basic_info\")\n",
    "print(basic_info_dict)"
   ]
  },
  {
   "cell_type": "markdown",
   "id": "c7d266a8-f006-468d-96d5-51d9a93dd6dd",
   "metadata": {
    "jp-MarkdownHeadingCollapsed": true,
    "tags": []
   },
   "source": [
    "### ADF Standard Work Flow"
   ]
  },
  {
   "cell_type": "code",
   "execution_count": 7,
   "id": "5f056e6d-5828-434d-b70b-f60627f30ba1",
   "metadata": {
    "tags": []
   },
   "outputs": [
    {
     "name": "stdout",
     "output_type": "stream",
     "text": [
      "  Generating CAM time series files...\n",
      "\t Processing time series for case 'b.e20.BHIST.f09_g17.20thC.297_05' :\n"
     ]
    },
    {
     "ename": "PermissionError",
     "evalue": "[Errno 13] Permission denied: '/some'",
     "output_type": "error",
     "traceback": [
      "\u001b[0;31m---------------------------------------------------------------------------\u001b[0m",
      "\u001b[0;31mFileNotFoundError\u001b[0m                         Traceback (most recent call last)",
      "\u001b[0;32m/glade/u/apps/opt/conda/envs/npl/lib/python3.7/pathlib.py\u001b[0m in \u001b[0;36mmkdir\u001b[0;34m(self, mode, parents, exist_ok)\u001b[0m\n\u001b[1;32m   1272\u001b[0m         \u001b[0;32mtry\u001b[0m\u001b[0;34m:\u001b[0m\u001b[0;34m\u001b[0m\u001b[0;34m\u001b[0m\u001b[0m\n\u001b[0;32m-> 1273\u001b[0;31m             \u001b[0mself\u001b[0m\u001b[0;34m.\u001b[0m\u001b[0m_accessor\u001b[0m\u001b[0;34m.\u001b[0m\u001b[0mmkdir\u001b[0m\u001b[0;34m(\u001b[0m\u001b[0mself\u001b[0m\u001b[0;34m,\u001b[0m \u001b[0mmode\u001b[0m\u001b[0;34m)\u001b[0m\u001b[0;34m\u001b[0m\u001b[0;34m\u001b[0m\u001b[0m\n\u001b[0m\u001b[1;32m   1274\u001b[0m         \u001b[0;32mexcept\u001b[0m \u001b[0mFileNotFoundError\u001b[0m\u001b[0;34m:\u001b[0m\u001b[0;34m\u001b[0m\u001b[0;34m\u001b[0m\u001b[0m\n",
      "\u001b[0;31mFileNotFoundError\u001b[0m: [Errno 2] No such file or directory: '/some/where/you/want/to/have/time_series_files'",
      "\nDuring handling of the above exception, another exception occurred:\n",
      "\u001b[0;31mFileNotFoundError\u001b[0m                         Traceback (most recent call last)",
      "\u001b[0;32m/glade/u/apps/opt/conda/envs/npl/lib/python3.7/pathlib.py\u001b[0m in \u001b[0;36mmkdir\u001b[0;34m(self, mode, parents, exist_ok)\u001b[0m\n\u001b[1;32m   1272\u001b[0m         \u001b[0;32mtry\u001b[0m\u001b[0;34m:\u001b[0m\u001b[0;34m\u001b[0m\u001b[0;34m\u001b[0m\u001b[0m\n\u001b[0;32m-> 1273\u001b[0;31m             \u001b[0mself\u001b[0m\u001b[0;34m.\u001b[0m\u001b[0m_accessor\u001b[0m\u001b[0;34m.\u001b[0m\u001b[0mmkdir\u001b[0m\u001b[0;34m(\u001b[0m\u001b[0mself\u001b[0m\u001b[0;34m,\u001b[0m \u001b[0mmode\u001b[0m\u001b[0;34m)\u001b[0m\u001b[0;34m\u001b[0m\u001b[0;34m\u001b[0m\u001b[0m\n\u001b[0m\u001b[1;32m   1274\u001b[0m         \u001b[0;32mexcept\u001b[0m \u001b[0mFileNotFoundError\u001b[0m\u001b[0;34m:\u001b[0m\u001b[0;34m\u001b[0m\u001b[0;34m\u001b[0m\u001b[0m\n",
      "\u001b[0;31mFileNotFoundError\u001b[0m: [Errno 2] No such file or directory: '/some/where/you/want/to/have'",
      "\nDuring handling of the above exception, another exception occurred:\n",
      "\u001b[0;31mFileNotFoundError\u001b[0m                         Traceback (most recent call last)",
      "\u001b[0;32m/glade/u/apps/opt/conda/envs/npl/lib/python3.7/pathlib.py\u001b[0m in \u001b[0;36mmkdir\u001b[0;34m(self, mode, parents, exist_ok)\u001b[0m\n\u001b[1;32m   1272\u001b[0m         \u001b[0;32mtry\u001b[0m\u001b[0;34m:\u001b[0m\u001b[0;34m\u001b[0m\u001b[0;34m\u001b[0m\u001b[0m\n\u001b[0;32m-> 1273\u001b[0;31m             \u001b[0mself\u001b[0m\u001b[0;34m.\u001b[0m\u001b[0m_accessor\u001b[0m\u001b[0;34m.\u001b[0m\u001b[0mmkdir\u001b[0m\u001b[0;34m(\u001b[0m\u001b[0mself\u001b[0m\u001b[0;34m,\u001b[0m \u001b[0mmode\u001b[0m\u001b[0;34m)\u001b[0m\u001b[0;34m\u001b[0m\u001b[0;34m\u001b[0m\u001b[0m\n\u001b[0m\u001b[1;32m   1274\u001b[0m         \u001b[0;32mexcept\u001b[0m \u001b[0mFileNotFoundError\u001b[0m\u001b[0;34m:\u001b[0m\u001b[0;34m\u001b[0m\u001b[0;34m\u001b[0m\u001b[0m\n",
      "\u001b[0;31mFileNotFoundError\u001b[0m: [Errno 2] No such file or directory: '/some/where/you/want/to'",
      "\nDuring handling of the above exception, another exception occurred:\n",
      "\u001b[0;31mFileNotFoundError\u001b[0m                         Traceback (most recent call last)",
      "\u001b[0;32m/glade/u/apps/opt/conda/envs/npl/lib/python3.7/pathlib.py\u001b[0m in \u001b[0;36mmkdir\u001b[0;34m(self, mode, parents, exist_ok)\u001b[0m\n\u001b[1;32m   1272\u001b[0m         \u001b[0;32mtry\u001b[0m\u001b[0;34m:\u001b[0m\u001b[0;34m\u001b[0m\u001b[0;34m\u001b[0m\u001b[0m\n\u001b[0;32m-> 1273\u001b[0;31m             \u001b[0mself\u001b[0m\u001b[0;34m.\u001b[0m\u001b[0m_accessor\u001b[0m\u001b[0;34m.\u001b[0m\u001b[0mmkdir\u001b[0m\u001b[0;34m(\u001b[0m\u001b[0mself\u001b[0m\u001b[0;34m,\u001b[0m \u001b[0mmode\u001b[0m\u001b[0;34m)\u001b[0m\u001b[0;34m\u001b[0m\u001b[0;34m\u001b[0m\u001b[0m\n\u001b[0m\u001b[1;32m   1274\u001b[0m         \u001b[0;32mexcept\u001b[0m \u001b[0mFileNotFoundError\u001b[0m\u001b[0;34m:\u001b[0m\u001b[0;34m\u001b[0m\u001b[0;34m\u001b[0m\u001b[0m\n",
      "\u001b[0;31mFileNotFoundError\u001b[0m: [Errno 2] No such file or directory: '/some/where/you/want'",
      "\nDuring handling of the above exception, another exception occurred:\n",
      "\u001b[0;31mFileNotFoundError\u001b[0m                         Traceback (most recent call last)",
      "\u001b[0;32m/glade/u/apps/opt/conda/envs/npl/lib/python3.7/pathlib.py\u001b[0m in \u001b[0;36mmkdir\u001b[0;34m(self, mode, parents, exist_ok)\u001b[0m\n\u001b[1;32m   1272\u001b[0m         \u001b[0;32mtry\u001b[0m\u001b[0;34m:\u001b[0m\u001b[0;34m\u001b[0m\u001b[0;34m\u001b[0m\u001b[0m\n\u001b[0;32m-> 1273\u001b[0;31m             \u001b[0mself\u001b[0m\u001b[0;34m.\u001b[0m\u001b[0m_accessor\u001b[0m\u001b[0;34m.\u001b[0m\u001b[0mmkdir\u001b[0m\u001b[0;34m(\u001b[0m\u001b[0mself\u001b[0m\u001b[0;34m,\u001b[0m \u001b[0mmode\u001b[0m\u001b[0;34m)\u001b[0m\u001b[0;34m\u001b[0m\u001b[0;34m\u001b[0m\u001b[0m\n\u001b[0m\u001b[1;32m   1274\u001b[0m         \u001b[0;32mexcept\u001b[0m \u001b[0mFileNotFoundError\u001b[0m\u001b[0;34m:\u001b[0m\u001b[0;34m\u001b[0m\u001b[0;34m\u001b[0m\u001b[0m\n",
      "\u001b[0;31mFileNotFoundError\u001b[0m: [Errno 2] No such file or directory: '/some/where/you'",
      "\nDuring handling of the above exception, another exception occurred:\n",
      "\u001b[0;31mFileNotFoundError\u001b[0m                         Traceback (most recent call last)",
      "\u001b[0;32m/glade/u/apps/opt/conda/envs/npl/lib/python3.7/pathlib.py\u001b[0m in \u001b[0;36mmkdir\u001b[0;34m(self, mode, parents, exist_ok)\u001b[0m\n\u001b[1;32m   1272\u001b[0m         \u001b[0;32mtry\u001b[0m\u001b[0;34m:\u001b[0m\u001b[0;34m\u001b[0m\u001b[0;34m\u001b[0m\u001b[0m\n\u001b[0;32m-> 1273\u001b[0;31m             \u001b[0mself\u001b[0m\u001b[0;34m.\u001b[0m\u001b[0m_accessor\u001b[0m\u001b[0;34m.\u001b[0m\u001b[0mmkdir\u001b[0m\u001b[0;34m(\u001b[0m\u001b[0mself\u001b[0m\u001b[0;34m,\u001b[0m \u001b[0mmode\u001b[0m\u001b[0;34m)\u001b[0m\u001b[0;34m\u001b[0m\u001b[0;34m\u001b[0m\u001b[0m\n\u001b[0m\u001b[1;32m   1274\u001b[0m         \u001b[0;32mexcept\u001b[0m \u001b[0mFileNotFoundError\u001b[0m\u001b[0;34m:\u001b[0m\u001b[0;34m\u001b[0m\u001b[0;34m\u001b[0m\u001b[0m\n",
      "\u001b[0;31mFileNotFoundError\u001b[0m: [Errno 2] No such file or directory: '/some/where'",
      "\nDuring handling of the above exception, another exception occurred:\n",
      "\u001b[0;31mPermissionError\u001b[0m                           Traceback (most recent call last)",
      "\u001b[0;32m/glade/scratch/bundy/ipykernel_7538/186839771.py\u001b[0m in \u001b[0;36m<module>\u001b[0;34m\u001b[0m\n\u001b[1;32m      1\u001b[0m \u001b[0;31m#Create model time series.\u001b[0m\u001b[0;34m\u001b[0m\u001b[0;34m\u001b[0m\u001b[0;34m\u001b[0m\u001b[0m\n\u001b[0;32m----> 2\u001b[0;31m \u001b[0madf\u001b[0m\u001b[0;34m.\u001b[0m\u001b[0mcreate_time_series\u001b[0m\u001b[0;34m(\u001b[0m\u001b[0;34m)\u001b[0m\u001b[0;34m\u001b[0m\u001b[0;34m\u001b[0m\u001b[0m\n\u001b[0m\u001b[1;32m      3\u001b[0m \u001b[0;34m\u001b[0m\u001b[0m\n",
      "\u001b[0;32m~/diag/ADF_top/ADF/lib/adf_diag.py\u001b[0m in \u001b[0;36mcreate_time_series\u001b[0;34m(self, baseline)\u001b[0m\n\u001b[1;32m    625\u001b[0m             \u001b[0;31m#Check if time series directory exists, and if not, then create it:\u001b[0m\u001b[0;34m\u001b[0m\u001b[0;34m\u001b[0m\u001b[0;34m\u001b[0m\u001b[0m\n\u001b[1;32m    626\u001b[0m             \u001b[0;31m#Use pathlib to create parent directories, if necessary.\u001b[0m\u001b[0;34m\u001b[0m\u001b[0;34m\u001b[0m\u001b[0;34m\u001b[0m\u001b[0m\n\u001b[0;32m--> 627\u001b[0;31m             \u001b[0mPath\u001b[0m\u001b[0;34m(\u001b[0m\u001b[0mts_dir\u001b[0m\u001b[0;34m[\u001b[0m\u001b[0mcase_idx\u001b[0m\u001b[0;34m]\u001b[0m\u001b[0;34m)\u001b[0m\u001b[0;34m.\u001b[0m\u001b[0mmkdir\u001b[0m\u001b[0;34m(\u001b[0m\u001b[0mparents\u001b[0m\u001b[0;34m=\u001b[0m\u001b[0;32mTrue\u001b[0m\u001b[0;34m,\u001b[0m \u001b[0mexist_ok\u001b[0m\u001b[0;34m=\u001b[0m\u001b[0;32mTrue\u001b[0m\u001b[0;34m)\u001b[0m\u001b[0;34m\u001b[0m\u001b[0;34m\u001b[0m\u001b[0m\n\u001b[0m\u001b[1;32m    628\u001b[0m \u001b[0;34m\u001b[0m\u001b[0m\n\u001b[1;32m    629\u001b[0m             \u001b[0;31m#INPUT NAME TEMPLATE: $CASE.$scomp.[$type.][$string.]$date[$ending]\u001b[0m\u001b[0;34m\u001b[0m\u001b[0;34m\u001b[0m\u001b[0;34m\u001b[0m\u001b[0m\n",
      "\u001b[0;32m/glade/u/apps/opt/conda/envs/npl/lib/python3.7/pathlib.py\u001b[0m in \u001b[0;36mmkdir\u001b[0;34m(self, mode, parents, exist_ok)\u001b[0m\n\u001b[1;32m   1275\u001b[0m             \u001b[0;32mif\u001b[0m \u001b[0;32mnot\u001b[0m \u001b[0mparents\u001b[0m \u001b[0;32mor\u001b[0m \u001b[0mself\u001b[0m\u001b[0;34m.\u001b[0m\u001b[0mparent\u001b[0m \u001b[0;34m==\u001b[0m \u001b[0mself\u001b[0m\u001b[0;34m:\u001b[0m\u001b[0;34m\u001b[0m\u001b[0;34m\u001b[0m\u001b[0m\n\u001b[1;32m   1276\u001b[0m                 \u001b[0;32mraise\u001b[0m\u001b[0;34m\u001b[0m\u001b[0;34m\u001b[0m\u001b[0m\n\u001b[0;32m-> 1277\u001b[0;31m             \u001b[0mself\u001b[0m\u001b[0;34m.\u001b[0m\u001b[0mparent\u001b[0m\u001b[0;34m.\u001b[0m\u001b[0mmkdir\u001b[0m\u001b[0;34m(\u001b[0m\u001b[0mparents\u001b[0m\u001b[0;34m=\u001b[0m\u001b[0;32mTrue\u001b[0m\u001b[0;34m,\u001b[0m \u001b[0mexist_ok\u001b[0m\u001b[0;34m=\u001b[0m\u001b[0;32mTrue\u001b[0m\u001b[0;34m)\u001b[0m\u001b[0;34m\u001b[0m\u001b[0;34m\u001b[0m\u001b[0m\n\u001b[0m\u001b[1;32m   1278\u001b[0m             \u001b[0mself\u001b[0m\u001b[0;34m.\u001b[0m\u001b[0mmkdir\u001b[0m\u001b[0;34m(\u001b[0m\u001b[0mmode\u001b[0m\u001b[0;34m,\u001b[0m \u001b[0mparents\u001b[0m\u001b[0;34m=\u001b[0m\u001b[0;32mFalse\u001b[0m\u001b[0;34m,\u001b[0m \u001b[0mexist_ok\u001b[0m\u001b[0;34m=\u001b[0m\u001b[0mexist_ok\u001b[0m\u001b[0;34m)\u001b[0m\u001b[0;34m\u001b[0m\u001b[0;34m\u001b[0m\u001b[0m\n\u001b[1;32m   1279\u001b[0m         \u001b[0;32mexcept\u001b[0m \u001b[0mOSError\u001b[0m\u001b[0;34m:\u001b[0m\u001b[0;34m\u001b[0m\u001b[0;34m\u001b[0m\u001b[0m\n",
      "\u001b[0;32m/glade/u/apps/opt/conda/envs/npl/lib/python3.7/pathlib.py\u001b[0m in \u001b[0;36mmkdir\u001b[0;34m(self, mode, parents, exist_ok)\u001b[0m\n\u001b[1;32m   1275\u001b[0m             \u001b[0;32mif\u001b[0m \u001b[0;32mnot\u001b[0m \u001b[0mparents\u001b[0m \u001b[0;32mor\u001b[0m \u001b[0mself\u001b[0m\u001b[0;34m.\u001b[0m\u001b[0mparent\u001b[0m \u001b[0;34m==\u001b[0m \u001b[0mself\u001b[0m\u001b[0;34m:\u001b[0m\u001b[0;34m\u001b[0m\u001b[0;34m\u001b[0m\u001b[0m\n\u001b[1;32m   1276\u001b[0m                 \u001b[0;32mraise\u001b[0m\u001b[0;34m\u001b[0m\u001b[0;34m\u001b[0m\u001b[0m\n\u001b[0;32m-> 1277\u001b[0;31m             \u001b[0mself\u001b[0m\u001b[0;34m.\u001b[0m\u001b[0mparent\u001b[0m\u001b[0;34m.\u001b[0m\u001b[0mmkdir\u001b[0m\u001b[0;34m(\u001b[0m\u001b[0mparents\u001b[0m\u001b[0;34m=\u001b[0m\u001b[0;32mTrue\u001b[0m\u001b[0;34m,\u001b[0m \u001b[0mexist_ok\u001b[0m\u001b[0;34m=\u001b[0m\u001b[0;32mTrue\u001b[0m\u001b[0;34m)\u001b[0m\u001b[0;34m\u001b[0m\u001b[0;34m\u001b[0m\u001b[0m\n\u001b[0m\u001b[1;32m   1278\u001b[0m             \u001b[0mself\u001b[0m\u001b[0;34m.\u001b[0m\u001b[0mmkdir\u001b[0m\u001b[0;34m(\u001b[0m\u001b[0mmode\u001b[0m\u001b[0;34m,\u001b[0m \u001b[0mparents\u001b[0m\u001b[0;34m=\u001b[0m\u001b[0;32mFalse\u001b[0m\u001b[0;34m,\u001b[0m \u001b[0mexist_ok\u001b[0m\u001b[0;34m=\u001b[0m\u001b[0mexist_ok\u001b[0m\u001b[0;34m)\u001b[0m\u001b[0;34m\u001b[0m\u001b[0;34m\u001b[0m\u001b[0m\n\u001b[1;32m   1279\u001b[0m         \u001b[0;32mexcept\u001b[0m \u001b[0mOSError\u001b[0m\u001b[0;34m:\u001b[0m\u001b[0;34m\u001b[0m\u001b[0;34m\u001b[0m\u001b[0m\n",
      "\u001b[0;32m/glade/u/apps/opt/conda/envs/npl/lib/python3.7/pathlib.py\u001b[0m in \u001b[0;36mmkdir\u001b[0;34m(self, mode, parents, exist_ok)\u001b[0m\n\u001b[1;32m   1275\u001b[0m             \u001b[0;32mif\u001b[0m \u001b[0;32mnot\u001b[0m \u001b[0mparents\u001b[0m \u001b[0;32mor\u001b[0m \u001b[0mself\u001b[0m\u001b[0;34m.\u001b[0m\u001b[0mparent\u001b[0m \u001b[0;34m==\u001b[0m \u001b[0mself\u001b[0m\u001b[0;34m:\u001b[0m\u001b[0;34m\u001b[0m\u001b[0;34m\u001b[0m\u001b[0m\n\u001b[1;32m   1276\u001b[0m                 \u001b[0;32mraise\u001b[0m\u001b[0;34m\u001b[0m\u001b[0;34m\u001b[0m\u001b[0m\n\u001b[0;32m-> 1277\u001b[0;31m             \u001b[0mself\u001b[0m\u001b[0;34m.\u001b[0m\u001b[0mparent\u001b[0m\u001b[0;34m.\u001b[0m\u001b[0mmkdir\u001b[0m\u001b[0;34m(\u001b[0m\u001b[0mparents\u001b[0m\u001b[0;34m=\u001b[0m\u001b[0;32mTrue\u001b[0m\u001b[0;34m,\u001b[0m \u001b[0mexist_ok\u001b[0m\u001b[0;34m=\u001b[0m\u001b[0;32mTrue\u001b[0m\u001b[0;34m)\u001b[0m\u001b[0;34m\u001b[0m\u001b[0;34m\u001b[0m\u001b[0m\n\u001b[0m\u001b[1;32m   1278\u001b[0m             \u001b[0mself\u001b[0m\u001b[0;34m.\u001b[0m\u001b[0mmkdir\u001b[0m\u001b[0;34m(\u001b[0m\u001b[0mmode\u001b[0m\u001b[0;34m,\u001b[0m \u001b[0mparents\u001b[0m\u001b[0;34m=\u001b[0m\u001b[0;32mFalse\u001b[0m\u001b[0;34m,\u001b[0m \u001b[0mexist_ok\u001b[0m\u001b[0;34m=\u001b[0m\u001b[0mexist_ok\u001b[0m\u001b[0;34m)\u001b[0m\u001b[0;34m\u001b[0m\u001b[0;34m\u001b[0m\u001b[0m\n\u001b[1;32m   1279\u001b[0m         \u001b[0;32mexcept\u001b[0m \u001b[0mOSError\u001b[0m\u001b[0;34m:\u001b[0m\u001b[0;34m\u001b[0m\u001b[0;34m\u001b[0m\u001b[0m\n",
      "\u001b[0;32m/glade/u/apps/opt/conda/envs/npl/lib/python3.7/pathlib.py\u001b[0m in \u001b[0;36mmkdir\u001b[0;34m(self, mode, parents, exist_ok)\u001b[0m\n\u001b[1;32m   1275\u001b[0m             \u001b[0;32mif\u001b[0m \u001b[0;32mnot\u001b[0m \u001b[0mparents\u001b[0m \u001b[0;32mor\u001b[0m \u001b[0mself\u001b[0m\u001b[0;34m.\u001b[0m\u001b[0mparent\u001b[0m \u001b[0;34m==\u001b[0m \u001b[0mself\u001b[0m\u001b[0;34m:\u001b[0m\u001b[0;34m\u001b[0m\u001b[0;34m\u001b[0m\u001b[0m\n\u001b[1;32m   1276\u001b[0m                 \u001b[0;32mraise\u001b[0m\u001b[0;34m\u001b[0m\u001b[0;34m\u001b[0m\u001b[0m\n\u001b[0;32m-> 1277\u001b[0;31m             \u001b[0mself\u001b[0m\u001b[0;34m.\u001b[0m\u001b[0mparent\u001b[0m\u001b[0;34m.\u001b[0m\u001b[0mmkdir\u001b[0m\u001b[0;34m(\u001b[0m\u001b[0mparents\u001b[0m\u001b[0;34m=\u001b[0m\u001b[0;32mTrue\u001b[0m\u001b[0;34m,\u001b[0m \u001b[0mexist_ok\u001b[0m\u001b[0;34m=\u001b[0m\u001b[0;32mTrue\u001b[0m\u001b[0;34m)\u001b[0m\u001b[0;34m\u001b[0m\u001b[0;34m\u001b[0m\u001b[0m\n\u001b[0m\u001b[1;32m   1278\u001b[0m             \u001b[0mself\u001b[0m\u001b[0;34m.\u001b[0m\u001b[0mmkdir\u001b[0m\u001b[0;34m(\u001b[0m\u001b[0mmode\u001b[0m\u001b[0;34m,\u001b[0m \u001b[0mparents\u001b[0m\u001b[0;34m=\u001b[0m\u001b[0;32mFalse\u001b[0m\u001b[0;34m,\u001b[0m \u001b[0mexist_ok\u001b[0m\u001b[0;34m=\u001b[0m\u001b[0mexist_ok\u001b[0m\u001b[0;34m)\u001b[0m\u001b[0;34m\u001b[0m\u001b[0;34m\u001b[0m\u001b[0m\n\u001b[1;32m   1279\u001b[0m         \u001b[0;32mexcept\u001b[0m \u001b[0mOSError\u001b[0m\u001b[0;34m:\u001b[0m\u001b[0;34m\u001b[0m\u001b[0;34m\u001b[0m\u001b[0m\n",
      "\u001b[0;32m/glade/u/apps/opt/conda/envs/npl/lib/python3.7/pathlib.py\u001b[0m in \u001b[0;36mmkdir\u001b[0;34m(self, mode, parents, exist_ok)\u001b[0m\n\u001b[1;32m   1275\u001b[0m             \u001b[0;32mif\u001b[0m \u001b[0;32mnot\u001b[0m \u001b[0mparents\u001b[0m \u001b[0;32mor\u001b[0m \u001b[0mself\u001b[0m\u001b[0;34m.\u001b[0m\u001b[0mparent\u001b[0m \u001b[0;34m==\u001b[0m \u001b[0mself\u001b[0m\u001b[0;34m:\u001b[0m\u001b[0;34m\u001b[0m\u001b[0;34m\u001b[0m\u001b[0m\n\u001b[1;32m   1276\u001b[0m                 \u001b[0;32mraise\u001b[0m\u001b[0;34m\u001b[0m\u001b[0;34m\u001b[0m\u001b[0m\n\u001b[0;32m-> 1277\u001b[0;31m             \u001b[0mself\u001b[0m\u001b[0;34m.\u001b[0m\u001b[0mparent\u001b[0m\u001b[0;34m.\u001b[0m\u001b[0mmkdir\u001b[0m\u001b[0;34m(\u001b[0m\u001b[0mparents\u001b[0m\u001b[0;34m=\u001b[0m\u001b[0;32mTrue\u001b[0m\u001b[0;34m,\u001b[0m \u001b[0mexist_ok\u001b[0m\u001b[0;34m=\u001b[0m\u001b[0;32mTrue\u001b[0m\u001b[0;34m)\u001b[0m\u001b[0;34m\u001b[0m\u001b[0;34m\u001b[0m\u001b[0m\n\u001b[0m\u001b[1;32m   1278\u001b[0m             \u001b[0mself\u001b[0m\u001b[0;34m.\u001b[0m\u001b[0mmkdir\u001b[0m\u001b[0;34m(\u001b[0m\u001b[0mmode\u001b[0m\u001b[0;34m,\u001b[0m \u001b[0mparents\u001b[0m\u001b[0;34m=\u001b[0m\u001b[0;32mFalse\u001b[0m\u001b[0;34m,\u001b[0m \u001b[0mexist_ok\u001b[0m\u001b[0;34m=\u001b[0m\u001b[0mexist_ok\u001b[0m\u001b[0;34m)\u001b[0m\u001b[0;34m\u001b[0m\u001b[0;34m\u001b[0m\u001b[0m\n\u001b[1;32m   1279\u001b[0m         \u001b[0;32mexcept\u001b[0m \u001b[0mOSError\u001b[0m\u001b[0;34m:\u001b[0m\u001b[0;34m\u001b[0m\u001b[0;34m\u001b[0m\u001b[0m\n",
      "\u001b[0;32m/glade/u/apps/opt/conda/envs/npl/lib/python3.7/pathlib.py\u001b[0m in \u001b[0;36mmkdir\u001b[0;34m(self, mode, parents, exist_ok)\u001b[0m\n\u001b[1;32m   1275\u001b[0m             \u001b[0;32mif\u001b[0m \u001b[0;32mnot\u001b[0m \u001b[0mparents\u001b[0m \u001b[0;32mor\u001b[0m \u001b[0mself\u001b[0m\u001b[0;34m.\u001b[0m\u001b[0mparent\u001b[0m \u001b[0;34m==\u001b[0m \u001b[0mself\u001b[0m\u001b[0;34m:\u001b[0m\u001b[0;34m\u001b[0m\u001b[0;34m\u001b[0m\u001b[0m\n\u001b[1;32m   1276\u001b[0m                 \u001b[0;32mraise\u001b[0m\u001b[0;34m\u001b[0m\u001b[0;34m\u001b[0m\u001b[0m\n\u001b[0;32m-> 1277\u001b[0;31m             \u001b[0mself\u001b[0m\u001b[0;34m.\u001b[0m\u001b[0mparent\u001b[0m\u001b[0;34m.\u001b[0m\u001b[0mmkdir\u001b[0m\u001b[0;34m(\u001b[0m\u001b[0mparents\u001b[0m\u001b[0;34m=\u001b[0m\u001b[0;32mTrue\u001b[0m\u001b[0;34m,\u001b[0m \u001b[0mexist_ok\u001b[0m\u001b[0;34m=\u001b[0m\u001b[0;32mTrue\u001b[0m\u001b[0;34m)\u001b[0m\u001b[0;34m\u001b[0m\u001b[0;34m\u001b[0m\u001b[0m\n\u001b[0m\u001b[1;32m   1278\u001b[0m             \u001b[0mself\u001b[0m\u001b[0;34m.\u001b[0m\u001b[0mmkdir\u001b[0m\u001b[0;34m(\u001b[0m\u001b[0mmode\u001b[0m\u001b[0;34m,\u001b[0m \u001b[0mparents\u001b[0m\u001b[0;34m=\u001b[0m\u001b[0;32mFalse\u001b[0m\u001b[0;34m,\u001b[0m \u001b[0mexist_ok\u001b[0m\u001b[0;34m=\u001b[0m\u001b[0mexist_ok\u001b[0m\u001b[0;34m)\u001b[0m\u001b[0;34m\u001b[0m\u001b[0;34m\u001b[0m\u001b[0m\n\u001b[1;32m   1279\u001b[0m         \u001b[0;32mexcept\u001b[0m \u001b[0mOSError\u001b[0m\u001b[0;34m:\u001b[0m\u001b[0;34m\u001b[0m\u001b[0;34m\u001b[0m\u001b[0m\n",
      "\u001b[0;32m/glade/u/apps/opt/conda/envs/npl/lib/python3.7/pathlib.py\u001b[0m in \u001b[0;36mmkdir\u001b[0;34m(self, mode, parents, exist_ok)\u001b[0m\n\u001b[1;32m   1271\u001b[0m             \u001b[0mself\u001b[0m\u001b[0;34m.\u001b[0m\u001b[0m_raise_closed\u001b[0m\u001b[0;34m(\u001b[0m\u001b[0;34m)\u001b[0m\u001b[0;34m\u001b[0m\u001b[0;34m\u001b[0m\u001b[0m\n\u001b[1;32m   1272\u001b[0m         \u001b[0;32mtry\u001b[0m\u001b[0;34m:\u001b[0m\u001b[0;34m\u001b[0m\u001b[0;34m\u001b[0m\u001b[0m\n\u001b[0;32m-> 1273\u001b[0;31m             \u001b[0mself\u001b[0m\u001b[0;34m.\u001b[0m\u001b[0m_accessor\u001b[0m\u001b[0;34m.\u001b[0m\u001b[0mmkdir\u001b[0m\u001b[0;34m(\u001b[0m\u001b[0mself\u001b[0m\u001b[0;34m,\u001b[0m \u001b[0mmode\u001b[0m\u001b[0;34m)\u001b[0m\u001b[0;34m\u001b[0m\u001b[0;34m\u001b[0m\u001b[0m\n\u001b[0m\u001b[1;32m   1274\u001b[0m         \u001b[0;32mexcept\u001b[0m \u001b[0mFileNotFoundError\u001b[0m\u001b[0;34m:\u001b[0m\u001b[0;34m\u001b[0m\u001b[0;34m\u001b[0m\u001b[0m\n\u001b[1;32m   1275\u001b[0m             \u001b[0;32mif\u001b[0m \u001b[0;32mnot\u001b[0m \u001b[0mparents\u001b[0m \u001b[0;32mor\u001b[0m \u001b[0mself\u001b[0m\u001b[0;34m.\u001b[0m\u001b[0mparent\u001b[0m \u001b[0;34m==\u001b[0m \u001b[0mself\u001b[0m\u001b[0;34m:\u001b[0m\u001b[0;34m\u001b[0m\u001b[0;34m\u001b[0m\u001b[0m\n",
      "\u001b[0;31mPermissionError\u001b[0m: [Errno 13] Permission denied: '/some'"
     ]
    }
   ],
   "source": [
    "#Create model time series.\n",
    "adf.create_time_series()\n",
    "   "
   ]
  },
  {
   "cell_type": "code",
   "execution_count": null,
   "id": "41b065a2-b499-4f21-a844-a7a1037cab8e",
   "metadata": {},
   "outputs": [],
   "source": []
  },
  {
   "cell_type": "code",
   "execution_count": null,
   "id": "924604b7-0da8-4867-9870-b8bb32131483",
   "metadata": {
    "tags": []
   },
   "outputs": [],
   "source": [
    "#Create model baseline time series (if needed):\n",
    "if not adf.compare_obs:\n",
    "    adf.create_time_series(baseline=True)\n"
   ]
  },
  {
   "cell_type": "code",
   "execution_count": null,
   "id": "85a611c7-a90b-4d24-a518-046407564e35",
   "metadata": {
    "tags": []
   },
   "outputs": [],
   "source": [
    "#Create model climatology (climo) files.\n",
    "adf.create_climo()"
   ]
  },
  {
   "cell_type": "code",
   "execution_count": null,
   "id": "012e5b82-f7dd-4fda-84c5-ad1eaeab6406",
   "metadata": {
    "tags": []
   },
   "outputs": [],
   "source": [
    "#If a user is doing a model vs obs comparison, but\n",
    "#no observations were found, then stop here:\n",
    "if adf.compare_obs and not diag.var_obs_dict:\n",
    "        print('ADF diagnostics has completed successfully.')\n",
    "        sys.exit(0)\n",
    "else:\n",
    "    print('config file did not ask ADF to compare obs')"
   ]
  },
  {
   "cell_type": "code",
   "execution_count": null,
   "id": "9673eada-6eeb-4c68-b59a-bd7baf62aca1",
   "metadata": {
    "tags": []
   },
   "outputs": [],
   "source": [
    "#Regrid model climatology files to match either\n",
    "#observations or CAM baseline climatologies.\n",
    "#This call uses the \"regridding_scripts\" specified\n",
    "#in the config file:\n",
    "adf.regrid_climo()\n",
    "\n",
    " "
   ]
  },
  {
   "cell_type": "code",
   "execution_count": null,
   "id": "d3d9ff4a-b720-47f1-89e9-10e06dab1d41",
   "metadata": {
    "tags": []
   },
   "outputs": [],
   "source": [
    "#Perform analyses on the simulation(s).\n",
    "#This call uses the \"analysis_scripts\" specified in the\n",
    "#config file:\n",
    "adf.perform_analyses()"
   ]
  },
  {
   "cell_type": "code",
   "execution_count": null,
   "id": "63f97af2-1c72-467a-9d87-27101506805c",
   "metadata": {
    "tags": []
   },
   "outputs": [],
   "source": [
    "#Create plots.\n",
    "#This call uses the \"plotting_scripts\" specified\n",
    "#in the config file:\n",
    "adf.create_plots()\n",
    "\n",
    " "
   ]
  },
  {
   "cell_type": "code",
   "execution_count": null,
   "id": "95161341-a11c-408c-baf6-44191023f55a",
   "metadata": {
    "tags": []
   },
   "outputs": [],
   "source": [
    "   #Create website.\n",
    "    #Please note that this is an internal ADF function:\n",
    "if adf.create_html:\n",
    "    adf.create_website()"
   ]
  },
  {
   "cell_type": "markdown",
   "id": "8de79bdf-bdf8-466c-9bbe-4dbd9ea98bbd",
   "metadata": {
    "tags": []
   },
   "source": [
    "### ADF Helpful Methods and Structures "
   ]
  },
  {
   "cell_type": "markdown",
   "id": "106a7c03-d3c8-4229-a0f2-9ebd7b3b57fd",
   "metadata": {
    "tags": []
   },
   "source": [
    "#### Demonstration of a few methods to get information from the ADF object"
   ]
  },
  {
   "cell_type": "code",
   "execution_count": 64,
   "id": "19f366ae-6aa1-4e7c-8c09-f4907c1785ff",
   "metadata": {},
   "outputs": [
    {
     "name": "stdout",
     "output_type": "stream",
     "text": [
      "{'compare_obs': False, 'create_html': True, 'obs_data_loc': '/glade/work/nusbaume/SE_projects/model_diagnostics/ADF_obs', 'cam_regrid_loc': '/some/where/you/want/to/have/regridded_files', 'cam_overwrite_regrid': False, 'cam_diag_plot_loc': '/some/where/you/want/to/have/diag_plots', 'use_defaults': True, 'plot_press_levels': [200, 850], 'weight_season': True, 'num_procs': '*'}\n",
      "Over-writing  compare_obs  =  True\n",
      "      Adding  compare_obs  =  True  to config.\n",
      "{'compare_obs': False, 'create_html': True, 'obs_data_loc': '/glade/work/nusbaume/SE_projects/model_diagnostics/ADF_obs', 'cam_regrid_loc': '/some/where/you/want/to/have/regridded_files', 'cam_overwrite_regrid': False, 'cam_diag_plot_loc': '/some/where/you/want/to/have/diag_plots', 'use_defaults': True, 'plot_press_levels': [200, 850], 'weight_season': True, 'num_procs': '*'}\n"
     ]
    }
   ],
   "source": [
    "basic_info_dict = adf.read_config_var(\"diag_basic_info\")\n",
    "print(basic_info_dict)\n",
    "adf.update_config_var('compare_obs',True)\n",
    "print(basic_info_dict)\n",
    "\n"
   ]
  },
  {
   "cell_type": "code",
   "execution_count": null,
   "id": "367b1c5f-1455-4584-b926-b272605df614",
   "metadata": {},
   "outputs": [],
   "source": [
    "baseline_dict = adf.read_config_var(\"diag_cam_baseline_climo\")\n",
    "print(baseline_dict)"
   ]
  },
  {
   "cell_type": "code",
   "execution_count": null,
   "id": "f4d34570-b650-4da6-88a5-2f9942092a2b",
   "metadata": {},
   "outputs": [],
   "source": [
    "case_names = adf.get_cam_info(\"cam_case_name\",required=True)\n",
    "print(case_names)"
   ]
  },
  {
   "cell_type": "code",
   "execution_count": null,
   "id": "66b7555f-d694-4c23-9046-75990c79153f",
   "metadata": {},
   "outputs": [],
   "source": [
    "plot_type = basic_info_dict.get('plot_type', 'png')\n",
    "plot_type"
   ]
  },
  {
   "cell_type": "code",
   "execution_count": null,
   "id": "cb3efbd0-b7c7-442f-b978-644a67db7ab0",
   "metadata": {},
   "outputs": [],
   "source": [
    "case_climo_loc = adf.get_cam_info('cam_climo_loc', required=True)\n",
    "data_name = adf.get_baseline_info('cam_case_name', required=True)\n",
    "data_list = data_name # should not be needed (?)\n",
    "data_loc = adf.get_baseline_info(\"cam_climo_loc\", required=True)"
   ]
  },
  {
   "cell_type": "code",
   "execution_count": null,
   "id": "67ea0b70-b4b9-4c26-8222-cbc35e7fff78",
   "metadata": {},
   "outputs": [],
   "source": [
    "var_list = adf.diag_var_list\n",
    "print(var_list)"
   ]
  },
  {
   "cell_type": "markdown",
   "id": "61d1372c-aade-4c1a-a769-e4b5f4bd2a05",
   "metadata": {},
   "source": [
    " #### Demonstrate how to check for a variable in the list \n",
    " *** EXPECT AN ERROR for demonstration purposes! "
   ]
  },
  {
   "cell_type": "code",
   "execution_count": null,
   "id": "0d214356-c5b1-42fd-89a4-d0834d3f44af",
   "metadata": {},
   "outputs": [],
   "source": [
    "\n",
    "assert 'PRECT' in var_list, f'Sorry, you need to include PRECT to make this plot'"
   ]
  },
  {
   "cell_type": "markdown",
   "id": "9d6e3b91-1f85-4cff-bdbc-cdb0bbe225ba",
   "metadata": {},
   "source": [
    "### ADF Example: Adding a script\n",
    "This relies on variables set in the above section \n",
    "It is based off of Brian Medeiros' (presentation)[https://drive.google.com/drive/folders/0AP2moq0SFULaUk9PVA]\n",
    "which contains a lot more detail on the process of developing code within a notebook  "
   ]
  },
  {
   "cell_type": "code",
   "execution_count": null,
   "id": "35d2556a-eb27-4491-8c07-130bec182160",
   "metadata": {},
   "outputs": [],
   "source": [
    "# Import necessary packages for the new script\n",
    "import numpy as np\n",
    "import matplotlib as mpl\n",
    "import geocat.comp as gc  # use geocat's interpolation <<--- move outside function\n",
    "\n"
   ]
  },
  {
   "cell_type": "code",
   "execution_count": null,
   "id": "c25ca8d6-a307-4787-9a3f-94f52b50f076",
   "metadata": {},
   "outputs": [],
   "source": [
    "## Settings \n",
    "#Set seasonal ranges:\n",
    "seasons = {\"ANN\": np.arange(1,13,1),\n",
    "            \"DJF\": [12, 1, 2],\n",
    "            \"JJA\": [6, 7, 8],\n",
    "            \"MAM\": [3, 4, 5],\n",
    "            \"SON\": [9, 10, 11]}\n",
    "seasons"
   ]
  },
  {
   "cell_type": "code",
   "execution_count": null,
   "id": "bdafce8a-d545-4d41-83b6-d6ee2e71c623",
   "metadata": {},
   "outputs": [],
   "source": [
    "case_colors = [mpl.cm.tab20(i) for i, case in enumerate(case_names)] # change color for each case\n",
    "case_colors"
   ]
  },
  {
   "cell_type": "code",
   "execution_count": null,
   "id": "65345b21-ff28-4f99-bf1e-48669db80fc3",
   "metadata": {},
   "outputs": [],
   "source": [
    "fils = sorted(list(Path(data_loc).glob(f\"*_T_*.nc\")))\n",
    "fils\n",
    "data_loc\n"
   ]
  },
  {
   "cell_type": "code",
   "execution_count": null,
   "id": "5b5b3f53-e789-4fc2-9c81-131d5306a6ad",
   "metadata": {},
   "outputs": [],
   "source": [
    "#Define a function to process the case. Usually this will be done in cells until \n",
    "# you decide to move it to a function\n",
    "def process_case(climo_loc, latitude, longitude, pressurelevels):\n",
    "    fils = sorted(list(Path(climo_loc).glob(f\"*_T_*.nc\")))\n",
    "    temperature = xr.open_mfdataset(fils)['T'].sel(lat=latitude, lon=longitude).compute()\n",
    "    fils = sorted(list(Path(climo_loc).glob(f\"*_Q_*.nc\")))\n",
    "    vapor = xr.open_mfdataset(fils)['Q'].sel(lat=latitude, lon=longitude).compute()\n",
    "    fils = sorted(list(Path(climo_loc).glob(f\"*_CLDLIQ_*.nc\")))\n",
    "    liquid = xr.open_mfdataset(fils)['CLDLIQ'].sel(lat=latitude, lon=longitude).compute()\n",
    "    # In one of these, we also need the hybrid-sigma coefficients\n",
    "    fils = sorted(list(Path(climo_loc).glob(f\"*_PS_*.nc\")))\n",
    "    ps_ds = xr.open_mfdataset(fils)\n",
    "    ps = ps_ds['PS'].sel(lat=latitude, lon=longitude).compute()\n",
    "    hyam = ps_ds['hyam'].isel(time=0).compute() # drop redundant time dimension\n",
    "    hybm = ps_ds['hybm'].isel(time=0).compute()\n",
    "    ps.name = \"PS\"\n",
    "    # we aren't done. Interpolate to pressure levels here:\n",
    "    t_plev = gc.interp_hybrid_to_pressure(temperature, ps, hyam, hybm, new_levels=pressurelevels, lev_dim='lev').compute()\n",
    "    q_plev = gc.interp_hybrid_to_pressure(vapor, ps, hyam, hybm, new_levels=pressurelevels, lev_dim='lev').compute()\n",
    "    liq_plev = gc.interp_hybrid_to_pressure(liquid, ps, hyam, hybm, new_levels=pressurelevels, lev_dim='lev').compute()\n",
    "    t_plev.name = \"T\"\n",
    "    q_plev.name = \"Q\"\n",
    "    liq_plev.name = 'CLDLIQ'\n",
    "    # But hold on, we actually want theta, not T:\n",
    "    p = xr.DataArray(pressurelevels, dims='plev', coords={'plev': t_plev.plev})\n",
    "    # pressurelevels expected in Pa!\n",
    "    theta_plev = t_plev * ((100000. / p)**0.2854)  # https://glossary.ametsoc.org/wiki/Potential_temperature &  https://glossary.ametsoc.org/wiki/Poisson_constant\n",
    "    # Still not done -- average over the area:\n",
    "    w = np.cos(np.radians(temperature.lat))  # area weighting\n",
    "    theta_aave = theta_plev.weighted(w).mean(dim=(\"lat\",\"lon\"))  # (12months x pressurelevels.shape[0])\n",
    "    theta_aave.name = \"THETA\"\n",
    "    q_aave = q_plev.weighted(w).mean(dim=(\"lat\",\"lon\"))\n",
    "    liq_aave = liq_plev.weighted(w).mean(dim=(\"lat\",\"lon\"))\n",
    "    ps_aave = ps.weighted(w).mean(dim=(\"lat\",\"lon\"))\n",
    "    return xr.merge([theta_aave, q_aave, liq_aave, ps_aave])"
   ]
  },
  {
   "cell_type": "code",
   "execution_count": null,
   "id": "fba88d3f-0cca-4637-bb37-20834d3fcc3c",
   "metadata": {},
   "outputs": [],
   "source": [
    "import matplotlib.pyplot as plt\n",
    "from cycler import cycler\n",
    "\n",
    "def make_plot(ds1, ds2, caselabels):\n",
    "    fig, ax = plt.subplots(figsize=(9,4), ncols=3, sharey=True, constrained_layout=True)\n",
    "    custom_cycler = (cycler(color=['k', 'r', 'y', 'y']) +\n",
    "                 cycler(lw=[2, 2, 1, 1]))\n",
    "    [a.set_prop_cycle(custom_cycler) for a in ax]\n",
    "    if ds1['Q'].max() < 0.1:\n",
    "        qscale = 1000. # kg/kg -> mg/kg\n",
    "    else:\n",
    "        qscale = 1\n",
    "    if ds1['CLDLIQ'].max() < 0.001:\n",
    "        lscale = 1000.*1000.  # kg/kg -> ug/kg\n",
    "    else:\n",
    "        lscale = 1\n",
    "    ax[0].plot(ds1['Q']*qscale, ds1['plev']/100, label=caselabels[0])\n",
    "    ax[0].plot(ds2['Q']*qscale, ds2['plev']/100, label=caselabels[1])\n",
    "    ax[0].set_xlim([0,25])\n",
    "    ax[0].set_xlabel(\"Specific Humidity [g/kg]\")\n",
    "    ax[1].plot(ds1['THETA'], ds1['plev']/100)\n",
    "    ax[1].plot(ds2['THETA'], ds2['plev']/100)\n",
    "    ax[1].set_xlabel(\"Potential Temperature [K]\")\n",
    "    ax[1].set_xlim([275, 325])\n",
    "    ax[2].plot(ds1['CLDLIQ']*lscale, ds1['plev']/100)\n",
    "    ax[2].plot(ds2['CLDLIQ']*lscale, ds2['plev']/100)\n",
    "    ax[2].set_xlabel(\"Cloud Liquid [$\\mu$g/kg]\")\n",
    "    ax[2].set_xlim([0,150])\n",
    "    ax[2].invert_yaxis()\n",
    "    ax[0].set_ylabel(\"Pressure\")\n",
    "    [a.spines['top'].set_visible(False) for a in ax]\n",
    "    [a.spines['right'].set_visible(False) for a in ax]\n",
    "    fig.legend(loc='upper left', bbox_to_anchor=(0.0, -0.01))\n",
    "    return fig, ax\n"
   ]
  },
  {
   "cell_type": "code",
   "execution_count": null,
   "id": "d28ea143-3638-4caa-8d8f-2af760d8a995",
   "metadata": {},
   "outputs": [],
   "source": [
    "from pathlib import Path\n",
    "import xarray as xr\n",
    "\n",
    "# define domain\n",
    "latslice = slice(20,30)\n",
    "lonslice = slice(230,240) # Klein&Hartmann 1993, Table 1\n",
    "levels = 100.*np.arange(600.0, 1015., 15)  # chosen for convenience. Go finer if native grid is finer.\n"
   ]
  },
  {
   "cell_type": "code",
   "execution_count": null,
   "id": "07a2823b-c2bd-4b68-9f44-0b66ebb9535f",
   "metadata": {},
   "outputs": [],
   "source": [
    "ref_ds = process_case(data_loc, latslice, lonslice, levels)"
   ]
  },
  {
   "cell_type": "code",
   "execution_count": null,
   "id": "a945c14f-1ae2-4ad5-8db4-c832eef4703f",
   "metadata": {},
   "outputs": [],
   "source": [
    "for i, c in enumerate(case_names):\n",
    "    case_ds = process_case(case_climo_loc[i], latslice, lonslice, levels)\n",
    "    print(\"case ready\")\n",
    "    for s in seasons:\n",
    "        ref_season = ref_ds.sel(time=seasons[s]).mean(dim='time')\n",
    "        case_season = case_ds.sel(time=seasons[s]).mean(dim='time')\n",
    "        # ** Ready to make plot **\n",
    "        labels = [data_name, c]\n",
    "        casefig, caseax = make_plot(ref_season, case_season, labels)\n",
    "        casefig.suptitle(f\"California Stratocumulus, {s}\")\n",
    "        plt.show()\n",
    "        "
   ]
  },
  {
   "cell_type": "code",
   "execution_count": null,
   "id": "9c935805-875b-4d9b-87ac-6f1307e5a622",
   "metadata": {},
   "outputs": [],
   "source": [
    "ref_ds['THETA']"
   ]
  },
  {
   "cell_type": "code",
   "execution_count": null,
   "id": "ff20be7a-2374-4d03-a2ce-16b4742c154a",
   "metadata": {},
   "outputs": [],
   "source": [
    "plot_type = adf.get_basic_info('plot_location', required=False)"
   ]
  },
  {
   "cell_type": "code",
   "execution_count": null,
   "id": "ad01b42a-4398-49f3-848d-66decc04a482",
   "metadata": {},
   "outputs": [],
   "source": [
    "print(plot_type)"
   ]
  },
  {
   "cell_type": "code",
   "execution_count": null,
   "id": "346dacf3-bf5b-4a7e-adb4-7c62f9682a21",
   "metadata": {},
   "outputs": [],
   "source": [
    "plot_type is None"
   ]
  },
  {
   "cell_type": "code",
   "execution_count": null,
   "id": "57bc11a9-f3cb-460e-bfb1-b46e5ea55e82",
   "metadata": {},
   "outputs": [],
   "source": []
  }
 ],
 "metadata": {
  "kernelspec": {
   "display_name": "NPL (conda)",
   "language": "python",
   "name": "npl-conda"
  },
  "language_info": {
   "codemirror_mode": {
    "name": "ipython",
    "version": 3
   },
   "file_extension": ".py",
   "mimetype": "text/x-python",
   "name": "python",
   "nbconvert_exporter": "python",
   "pygments_lexer": "ipython3",
   "version": "3.7.12"
  }
 },
 "nbformat": 4,
 "nbformat_minor": 5
}
