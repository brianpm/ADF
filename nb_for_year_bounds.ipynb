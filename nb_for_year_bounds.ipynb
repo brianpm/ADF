{
 "cells": [
  {
   "cell_type": "code",
   "execution_count": 1,
   "metadata": {},
   "outputs": [
    {
     "name": "stdout",
     "output_type": "stream",
     "text": [
      "Local path appears to be /glade/u/home/brianpm/Code/CAM_diagnostics\n",
      "Lib path appears to be /glade/u/home/brianpm/Code/CAM_diagnostics/lib\n",
      "/glade/u/home/brianpm/Code/CAM_diagnostics/scripts/plotting\n"
     ]
    }
   ],
   "source": [
    "#Import standard python modules\n",
    "import os.path\n",
    "import sys\n",
    "import xarray as xr\n",
    "import numpy as np\n",
    "\n",
    "#Determine local directory path:\n",
    "local_path = os.path.abspath('') # os.path.dirname(os.path.abspath(__file__))\n",
    "print(f\"Local path appears to be {local_path}\")\n",
    "\n",
    "#set path to ADF lib:\n",
    "lib_path = os.path.join(local_path,\"lib\")\n",
    "print(f\"Lib path appears to be {lib_path}\")\n",
    "\n",
    "#set path to ADF plotting scripts directory:\n",
    "plotting_scripts_path = os.path.join(local_path, \"scripts\", \"plotting\")\n",
    "print(plotting_scripts_path)\n",
    "\n",
    "#Add paths to python path:\n",
    "sys.path.append(lib_path)\n",
    "sys.path.append(plotting_scripts_path)\n",
    "\n",
    "#Import ADF diagnostics object:\n",
    "from adf_diag import AdfDiag"
   ]
  },
  {
   "cell_type": "code",
   "execution_count": 2,
   "metadata": {},
   "outputs": [],
   "source": [
    "from pathlib import Path\n",
    "\n",
    "config_file = Path.home()/\"drive_diagnostics\"/\"config_cam_timebounds_bug.yaml\"\n",
    "\n",
    "#Initialize ADF object:\n",
    "adf = AdfDiag(config_file)"
   ]
  },
  {
   "cell_type": "code",
   "execution_count": 4,
   "metadata": {},
   "outputs": [
    {
     "name": "stdout",
     "output_type": "stream",
     "text": [
      "{'compare_obs': True, 'create_html': True, 'obs_climo_loc': '/glade/work/brianpm/observations/climo_files', 'cam_regrid_loc': '/glade/scratch/berner/ADF/regridded_files', 'cam_overwrite_regrid': False, 'cam_diag_plot_loc': '/glade/scratch/berner/ADF/diag_plots', 'use_defaults': True}\n",
      "{'calc_cam_climo': True, 'cam_overwrite_climo': False, 'cam_case_name': 'f.e21.FHIST_BGC.f09_f09_mg17.CMIP6-AMIP.001', 'cam_hist_loc': None, 'cam_climo_loc': '/glade/scratch/berner/ADF/climo_files/', 'start_year': 1990, 'end_year': 1993, 'cam_ts_done': True, 'cam_ts_save': False, 'cam_overwrite_ts': False, 'cam_ts_loc': '/glade/campaign/collections/cmip/CMIP6/timeseries-cmip6/f.e21.FHIST_BGC.f09_f09_mg17.CMIP6-AMIP.001/atm/proc/tseries/month_1/'}\n",
      "{'calc_cam_climo': True, 'cam_overwrite_climo': False, 'cam_case_name': 'b.e20.BHIST.f09_g16.20thC.125.02', 'cam_hist_loc': '/glade/p/cesm/ADF/b.e20.BHIST.f09_g16.20thC.125.02/', 'cam_climo_loc': '/glade/scratch/berner/ADF/baseline_climo_files/', 'start_year': 1990, 'end_year': 1993, 'cam_ts_done': False, 'cam_ts_save': True, 'cam_overwrite_ts': False, 'cam_ts_loc': '/glade/scratch/berner/ADF/baseline_time_series_files/'}\n"
     ]
    }
   ],
   "source": [
    "basic_info_dict = adf.read_config_var(\"diag_basic_info\")\n",
    "print(basic_info_dict)\n",
    "\n",
    "testcase_dict = adf.read_config_var(\"diag_cam_climo\")\n",
    "print(testcase_dict)\n",
    "\n",
    "baseline_dict = adf.read_config_var(\"diag_cam_baseline_climo\")\n",
    "print(baseline_dict)"
   ]
  },
  {
   "cell_type": "code",
   "execution_count": null,
   "metadata": {},
   "outputs": [],
   "source": []
  }
 ],
 "metadata": {
  "interpreter": {
   "hash": "87fe33ccd84c02ae221f427b5a8d161a1cfa43b07023512759b2169e9115f4d8"
  },
  "kernelspec": {
   "display_name": "Python 3.9.9 ('camdiag')",
   "language": "python",
   "name": "python3"
  },
  "language_info": {
   "codemirror_mode": {
    "name": "ipython",
    "version": 3
   },
   "file_extension": ".py",
   "mimetype": "text/x-python",
   "name": "python",
   "nbconvert_exporter": "python",
   "pygments_lexer": "ipython3",
   "version": "3.9.9"
  },
  "orig_nbformat": 4
 },
 "nbformat": 4,
 "nbformat_minor": 2
}
