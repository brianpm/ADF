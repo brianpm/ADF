{
 "cells": [
  {
   "cell_type": "code",
   "execution_count": 1,
   "metadata": {},
   "outputs": [
    {
     "name": "stdout",
     "output_type": "stream",
     "text": [
      "Local path appears to be /glade/u/home/brianpm/Code/CAM_diagnostics\n",
      "Lib path appears to be /glade/u/home/brianpm/Code/CAM_diagnostics/lib\n",
      "/glade/u/home/brianpm/Code/CAM_diagnostics/scripts/plotting\n"
     ]
    }
   ],
   "source": [
    "#Import standard python modules\n",
    "import os.path\n",
    "import sys\n",
    "\n",
    "#Determine local directory path:\n",
    "local_path = os.path.abspath('') # os.path.dirname(os.path.abspath(__file__))\n",
    "print(f\"Local path appears to be {local_path}\")\n",
    "\n",
    "#set path to ADF lib:\n",
    "lib_path = os.path.join(local_path,\"lib\")\n",
    "print(f\"Lib path appears to be {lib_path}\")\n",
    "\n",
    "#set path to ADF plotting scripts directory:\n",
    "plotting_scripts_path = os.path.join(local_path, \"scripts\", \"plotting\")\n",
    "print(plotting_scripts_path)\n",
    "\n",
    "#Add paths to python path:\n",
    "sys.path.append(lib_path)\n",
    "sys.path.append(plotting_scripts_path)\n",
    "\n",
    "#Import ADF diagnostics object:\n",
    "from adf_diag import AdfDiag"
   ]
  },
  {
   "cell_type": "code",
   "execution_count": 76,
   "metadata": {},
   "outputs": [],
   "source": [
    "import xarray as xr\n",
    "import numpy as np"
   ]
  },
  {
   "cell_type": "code",
   "execution_count": 2,
   "metadata": {},
   "outputs": [],
   "source": [
    "from pathlib import Path\n",
    "config_file = Path.home()/\"drive_diagnostics\"/\"test_variable_prefs.yaml\"\n",
    "\n",
    "#Set path to config YAML file:\n",
    "# config_fil = \"/Users/brianpm/Code/scratch/CAM_diagnostics/config_user_module_example.yaml\"\n",
    "\n",
    "#Initialize ADF object:\n",
    "adf = AdfDiag(config_file)"
   ]
  },
  {
   "cell_type": "code",
   "execution_count": 5,
   "metadata": {},
   "outputs": [
    {
     "name": "stdout",
     "output_type": "stream",
     "text": [
      "{'compare_obs': False, 'create_html': True, 'obs_climo_loc': '/glade/work/brianpm/observations/climo_files', 'cam_regrid_loc': '/glade/scratch/brianpm/cam_diag_regrid_files', 'cam_overwrite_regrid': True, 'cam_diag_plot_loc': '/glade/scratch/brianpm/cam_diag_plots', 'use_defaults': True}\n",
      "{'cam_case_name': 'b.e20.BHIST.f09_g17.20thC.297_05', 'calc_cam_climo': True, 'cam_overwrite_climo': False, 'cam_hist_loc': '/glade/p/cesm/ADF/b.e20.BHIST.f09_g17.20thC.297_05/', 'start_year': 1990, 'end_year': 1999, 'cam_ts_done': False, 'cam_ts_save': True, 'cam_overwrite_ts': False, 'cam_ts_loc': '/glade/scratch/brianpm/cam_diag_ts_files', 'cam_climo_loc': '/glade/scratch/brianpm/cam_diag_climo/files/b.e20.BHIST.f09_g17.20thC.297_05', 'cam_regrid_loc': '/glade/scratch/brianpm/cam_diag_regrid_files'}\n",
      "{'calc_cam_climo': True, 'cam_overwrite_climo': True, 'cam_case_name': 'b.e20.BHIST.f09_g16.20thC.125.02', 'cam_hist_loc': '/glade/p/cesm/ADF/b.e20.BHIST.f09_g16.20thC.125.02', 'cam_climo_loc': '/glade/scratch/brianpm/cam_diag_climo/files/b.e20.BHIST.f09_g16.20thC.125.02', 'start_year': 1990, 'end_year': 1999, 'cam_ts_done': False, 'cam_ts_save': True, 'cam_overwrite_ts': False, 'cam_ts_loc': '/glade/scratch/brianpm/cam_diag_ts_files'}\n"
     ]
    }
   ],
   "source": [
    "basic_info_dict = adf.read_config_var(\"diag_basic_info\")\n",
    "print(basic_info_dict)\n",
    "\n",
    "testcase_dict = adf.read_config_var(\"diag_cam_climo\")\n",
    "print(testcase_dict)\n",
    "\n",
    "baseline_dict = adf.read_config_var(\"diag_cam_baseline_climo\")\n",
    "print(baseline_dict)"
   ]
  },
  {
   "cell_type": "code",
   "execution_count": 8,
   "metadata": {},
   "outputs": [
    {
     "data": {
      "text/plain": [
       "[PosixPath('/glade/scratch/brianpm/cam_diag_climo/files/b.e20.BHIST.f09_g17.20thC.297_05/b.e20.BHIST.f09_g17.20thC.297_05_T_climo.nc'),\n",
       " PosixPath('/glade/scratch/brianpm/cam_diag_climo/files/b.e20.BHIST.f09_g17.20thC.297_05/b.e20.BHIST.f09_g17.20thC.297_05_PSL_climo.nc'),\n",
       " PosixPath('/glade/scratch/brianpm/cam_diag_climo/files/b.e20.BHIST.f09_g17.20thC.297_05/b.e20.BHIST.f09_g17.20thC.297_05_RELHUM_climo.nc'),\n",
       " PosixPath('/glade/scratch/brianpm/cam_diag_climo/files/b.e20.BHIST.f09_g17.20thC.297_05/b.e20.BHIST.f09_g17.20thC.297_05_PRECC_climo.nc'),\n",
       " PosixPath('/glade/scratch/brianpm/cam_diag_climo/files/b.e20.BHIST.f09_g17.20thC.297_05/b.e20.BHIST.f09_g17.20thC.297_05_LWCF_climo.nc'),\n",
       " PosixPath('/glade/scratch/brianpm/cam_diag_climo/files/b.e20.BHIST.f09_g17.20thC.297_05/b.e20.BHIST.f09_g17.20thC.297_05_U_climo.nc'),\n",
       " PosixPath('/glade/scratch/brianpm/cam_diag_climo/files/b.e20.BHIST.f09_g17.20thC.297_05/b.e20.BHIST.f09_g17.20thC.297_05_SWCF_climo.nc'),\n",
       " PosixPath('/glade/scratch/brianpm/cam_diag_climo/files/b.e20.BHIST.f09_g17.20thC.297_05/b.e20.BHIST.f09_g17.20thC.297_05_PRECL_climo.nc'),\n",
       " PosixPath('/glade/scratch/brianpm/cam_diag_climo/files/b.e20.BHIST.f09_g17.20thC.297_05/b.e20.BHIST.f09_g17.20thC.297_05_TAUX_climo.nc'),\n",
       " PosixPath('/glade/scratch/brianpm/cam_diag_climo/files/b.e20.BHIST.f09_g17.20thC.297_05/b.e20.BHIST.f09_g17.20thC.297_05_PS_climo.nc')]"
      ]
     },
     "execution_count": 8,
     "metadata": {},
     "output_type": "execute_result"
    }
   ],
   "source": [
    "## WHERE ARE THE CLIMO FILES:\n",
    "\n",
    "\n",
    "# reference case:\n",
    "list(Path(baseline_dict['cam_climo_loc']).glob(baseline_dict['cam_case_name']+\"*\"))\n",
    "\n",
    "\n",
    "# test case(s):\n",
    "list(Path(testcase_dict['cam_climo_loc']).glob(testcase_dict['cam_case_name']+\"*\"))"
   ]
  },
  {
   "cell_type": "code",
   "execution_count": 11,
   "metadata": {},
   "outputs": [],
   "source": [
    "#Case names:\n",
    "reference_name = adf.get_baseline_info('cam_case_name', required=True)\n",
    "case_names = adf.get_cam_info('cam_case_name', required=True)  # Loop over these\n"
   ]
  },
  {
   "cell_type": "code",
   "execution_count": 18,
   "metadata": {},
   "outputs": [],
   "source": [
    "case_loc = adf.get_cam_info('cam_climo_loc', required=True)"
   ]
  },
  {
   "cell_type": "code",
   "execution_count": 32,
   "metadata": {},
   "outputs": [],
   "source": [
    "base_loc = adf.get_baseline_info('cam_climo_loc', required=True)"
   ]
  },
  {
   "cell_type": "code",
   "execution_count": 87,
   "metadata": {},
   "outputs": [],
   "source": [
    "# --- DERIVED VARIABLES --- \n",
    "def vertical_average(adf, casename, location):\n",
    "    # get pressure field\n",
    "    # get del_pressure\n",
    "    # return (1/g) * sum(fld * del_pressure) / sum(del_pressure)\n",
    "    pass\n",
    "\n",
    "\n",
    "def find_landmask(adf, casename, location):\n",
    "    # maybe it's in the climo files, but we might need to look in the history files:\n",
    "    landfrac_fils = list(Path(location).glob(f\"{casename}*_LANDFRAC_*.nc\"))\n",
    "    if landfrac_fils:\n",
    "        return xr.open_dataset(landfrac_fils[0])['LANDFRAC']\n",
    "    else:\n",
    "        if casename in adf.get_cam_info('cam_case_name'):\n",
    "            hloc = adf.get_cam_info('cam_hist_loc')\n",
    "        else:\n",
    "            hloc = adf.get_baseline_info('cam_hist_loc')\n",
    "        hfils = Path(hloc).glob((f\"*{casename}*.nc\"))\n",
    "        if not hfils:\n",
    "            raise IOError(f\"No history files in expected location: {hloc}\")\n",
    "        k = 0\n",
    "        for h in hfils:\n",
    "            dstmp = xr.open_dataset(h)\n",
    "            if 'LANDFRAC' in dstmp:\n",
    "                print(f\"Good news, found LANDFRAC in file: {h}\")\n",
    "                return dstmp['LANDFRAC']\n",
    "            else:\n",
    "                k += 1\n",
    "        else:\n",
    "            raise IOError(f\"Checked {k} files, but did not find LANDFRAC in any of them.\")\n",
    "            return None\n",
    "\n",
    "\n",
    "def get_prect(casename, location):\n",
    "    # look for prect first:\n",
    "    fils = sorted(list(Path(location).glob(f\"{casename}*_PRECT_*.nc\")))\n",
    "    if len(fils) == 0:\n",
    "        print(\"Need to derive PRECT = PRECC + PRECL\")\n",
    "        fils1 = sorted(list(Path(location).glob(f\"{casename}*_PRECC_*.nc\")))\n",
    "        fils2 = sorted(list(Path(location).glob(f\"{casename}*_PRECL_*.nc\")))\n",
    "        if (len(fils1) == 0) or (len(fils2) == 0):\n",
    "            raise IOError(\"Could not find PRECC or PRECL\")\n",
    "        else:\n",
    "            if len(fils1) == 1:\n",
    "                precc = xr.open_dataset(fils1[0])['PRECC']\n",
    "                precl = xr.open_dataset(fils2[0])['PRECL']\n",
    "                prect = precc + precl \n",
    "            else:\n",
    "                print(\"Need to deal with mult-file case.\")\n",
    "    elif len(fils) > 1:\n",
    "        prect = xr.open_mfdataset(fils)['PRECT'].load()  # do we ever expect climo files split into pieces? \n",
    "    else:\n",
    "        prect = xr.open_dataset(fils[0])['PRECT']\n",
    "    return prect\n",
    "\n",
    "\n",
    "def get_tropical_land_precip(adf, casename, location):\n",
    "    # get landfrac\n",
    "    landfrac = find_landmask(adf, casename, location)\n",
    "    if landfrac is None:\n",
    "        raise ValueError(\"No landfrac returned\")\n",
    "    # get prect \n",
    "    prect = get_prect(casename, location)\n",
    "    # mask to only keep land locations\n",
    "    prect = xr.DataArray(np.where(landfrac >= .95, prect, np.nan),\n",
    "                         dims=prect.dims,\n",
    "                         coords=prect.coords,\n",
    "                         attrs=prect.attrs)  # threshold could be 1\n",
    "    return prect.sel(lat=slice(-30,30))\n",
    "\n",
    "\n",
    "def get_tropical_ocean_precip(adf, casename, location):\n",
    "    # get landfrac\n",
    "    landfrac = find_landmask(adf, casename, location)\n",
    "    if landfrac is None:\n",
    "        raise ValueError(\"No landfrac returned\")\n",
    "    # get prect \n",
    "    prect = get_prect(casename, location)\n",
    "    # mask to only keep ocean locations\n",
    "    prect = xr.DataArray(np.where(landfrac <= 0, prect, np.nan),\n",
    "                         dims=prect.dims,\n",
    "                         coords=prect.coords,\n",
    "                         attrs=prect.attrs)  \n",
    "    return prect.sel(lat=slice(-30,30))\n",
    "\n",
    "\n",
    "def get_u_at_plev(adf, casename, location):\n",
    "    # parse input to know variable and pressure value\n",
    "    # get variable\n",
    "    # TODO: are variables saved on pressure levels, or do we need to interpolate?\n",
    "    # return variable on plev\n",
    "    pass\n",
    "\n",
    "def get_virh(adf, casename, location):\n",
    "    # get RELHUM climo\n",
    "    # get PS\n",
    "    # TODO: on pressure levels already?\n",
    "    # TODO: RELHUM will have hyam, hybm? \n",
    "    # vertical_average(RELHUM, PS)\n",
    "    pass\n",
    "\n",
    "def get_vit(adf, casename, location):\n",
    "    # get T climo\n",
    "    # get PS\n",
    "    # TODO: on pressure levels already?\n",
    "    # TODO: T will have hyam, hybm? \n",
    "    # vertical_average(T, PS)\n",
    "    pass\n",
    "\n",
    "def get_derive_func(fld):\n",
    "    funcs = {'TropicalLandPrecip': get_tropical_land_precip,\n",
    "    'TropicalOceanPrecip': get_tropical_ocean_precip,\n",
    "    'U300': get_u_at_plev,\n",
    "    'VIRelativeHumidity': get_virh,\n",
    "    'VITemperature': get_vit,\n",
    "    }\n",
    "    return funcs[fld]\n",
    "\n",
    "def _retrieve(adfobj, variable, casename, location):\n",
    "    v_to_derive = ['TropicalLandPrecip', 'TropicalOceanPrecip', 'EquatorialPacificStress', \n",
    "                'U300', 'ColumnRelativeHumidity', 'ColumnTemperature']\n",
    "    if variable not in v_to_derive:\n",
    "        fils = sorted(list(Path(location).glob(f\"{casename}*_{variable}_*.nc\")))\n",
    "        print(fils)\n",
    "        if len(fils) == 0:\n",
    "            raise ValueError(\"something went wrong\")\n",
    "        elif len(fils) > 1:\n",
    "            ds = xr.open_mfdataset(fils)  # do we ever expect climo files split into pieces? \n",
    "        else:\n",
    "            ds = xr.open_dataset(fils[0])\n",
    "    else:\n",
    "        func = get_derive_func(variable)\n",
    "        print(func)\n",
    "        ds = func(adfobj, casename, location)\n",
    "    return ds \n"
   ]
  },
  {
   "cell_type": "code",
   "execution_count": 88,
   "metadata": {},
   "outputs": [
    {
     "name": "stdout",
     "output_type": "stream",
     "text": [
      "<function get_tropical_ocean_precip at 0x2ac136c18310>\n",
      "Good news, found LANDFRAC in file: /glade/p/cesm/ADF/b.e20.BHIST.f09_g16.20thC.125.02/b.e20.BHIST.f09_g16.20thC.125.02.cam.h0.1996-01.nc\n",
      "Need to derive PRECT = PRECC + PRECL\n"
     ]
    }
   ],
   "source": [
    "prect = _retrieve(adf, \"TropicalOceanPrecip\", reference_name, base_loc)"
   ]
  },
  {
   "cell_type": "code",
   "execution_count": 89,
   "metadata": {},
   "outputs": [
    {
     "data": {
      "text/plain": [
       "<matplotlib.collections.QuadMesh at 0x2ac13ef93b50>"
      ]
     },
     "execution_count": 89,
     "metadata": {},
     "output_type": "execute_result"
    },
    {
     "data": {
      "image/png": "[encoded data removed]",
      "text/plain": [
       "<Figure size 432x288 with 2 Axes>"
      ]
     },
     "metadata": {
      "needs_background": "light"
     },
     "output_type": "display_data"
    }
   ],
   "source": [
    "prect.isel(time=1).plot.pcolormesh()"
   ]
  },
  {
   "cell_type": "code",
   "execution_count": 36,
   "metadata": {},
   "outputs": [
    {
     "data": {
      "text/plain": [
       "'b.e20.BHIST.f09_g17.20thC.297_05'"
      ]
     },
     "execution_count": 36,
     "metadata": {},
     "output_type": "execute_result"
    }
   ],
   "source": [
    "case_names[0]"
   ]
  },
  {
   "cell_type": "code",
   "execution_count": 57,
   "metadata": {},
   "outputs": [
    {
     "data": {
      "text/plain": [
       "True"
      ]
     },
     "execution_count": 57,
     "metadata": {},
     "output_type": "execute_result"
    }
   ],
   "source": [
    "# adf.ge   'cam_hist_loc'\n",
    "# dir(adf)\n",
    "# diag_cam_climo:\n",
    "  # cam_case_name:\n",
    "  \n",
    "  \n",
    "adf.get_cam_info('cam_case_name')[0] == case_names[0]"
   ]
  },
  {
   "cell_type": "code",
   "execution_count": 55,
   "metadata": {},
   "outputs": [
    {
     "data": {
      "text/plain": [
       "False"
      ]
     },
     "execution_count": 55,
     "metadata": {},
     "output_type": "execute_result"
    }
   ],
   "source": [
    "adf.get_baseline_info('cam_case_name') == case_names[0]"
   ]
  },
  {
   "cell_type": "code",
   "execution_count": 56,
   "metadata": {},
   "outputs": [
    {
     "data": {
      "text/plain": [
       "'b.e20.BHIST.f09_g17.20thC.297_05'"
      ]
     },
     "execution_count": 56,
     "metadata": {},
     "output_type": "execute_result"
    }
   ],
   "source": [
    "adf.get_cam_info('cam_case_name')[0]"
   ]
  },
  {
   "cell_type": "code",
   "execution_count": 53,
   "metadata": {},
   "outputs": [
    {
     "data": {
      "text/plain": [
       "'b.e20.BHIST.f09_g17.20thC.297_05'"
      ]
     },
     "execution_count": 53,
     "metadata": {},
     "output_type": "execute_result"
    }
   ],
   "source": [
    "case_names[0]"
   ]
  },
  {
   "cell_type": "code",
   "execution_count": 58,
   "metadata": {},
   "outputs": [
    {
     "data": {
      "text/plain": [
       "['/glade/p/cesm/ADF/b.e20.BHIST.f09_g17.20thC.297_05/']"
      ]
     },
     "execution_count": 58,
     "metadata": {},
     "output_type": "execute_result"
    }
   ],
   "source": [
    "adf.get_cam_info('cam_hist_loc')"
   ]
  },
  {
   "cell_type": "code",
   "execution_count": null,
   "metadata": {},
   "outputs": [],
   "source": []
  }
 ],
 "metadata": {
  "interpreter": {
   "hash": "87fe33ccd84c02ae221f427b5a8d161a1cfa43b07023512759b2169e9115f4d8"
  },
  "kernelspec": {
   "display_name": "Python 3.9.7 64-bit ('camdiag': conda)",
   "language": "python",
   "name": "python3"
  },
  "language_info": {
   "codemirror_mode": {
    "name": "ipython",
    "version": 3
   },
   "file_extension": ".py",
   "mimetype": "text/x-python",
   "name": "python",
   "nbconvert_exporter": "python",
   "pygments_lexer": "ipython3",
   "version": "3.9.7"
  },
  "orig_nbformat": 4
 },
 "nbformat": 4,
 "nbformat_minor": 2
}
