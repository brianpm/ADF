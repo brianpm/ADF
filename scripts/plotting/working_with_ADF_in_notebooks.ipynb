{
 "cells": [
  {
   "cell_type": "markdown",
   "metadata": {},
   "source": [
    "# ADF in notebooks\n",
    "\n",
    "This notebook demonstrates one approach to using ADF components within a notebook.\n",
    "\n",
    "Two typical use cases for this kind of notebook would be:\n",
    "- developing a new script/plot that could be run with ADF (user-defined or to be submitted to ADF)\n",
    "- using ADF tools to customize an ADF plot for publication"
   ]
  },
  {
   "cell_type": "code",
   "execution_count": 1,
   "metadata": {},
   "outputs": [
    {
     "name": "stdout",
     "output_type": "stream",
     "text": [
      "['__builtins__', '__cached__', '__doc__', '__file__', '__loader__', '__name__', '__package__', '__spec__', 'global_average', 'plot_example', 'plot_map_and_save', 'use_this_norm']\n",
      "/Users/brianpm/Code/CAM_diagnostics/lib\n",
      "['/Users/brianpm/Code/CAM_diagnostics/scripts/plotting', '/Users/brianpm/.vscode/extensions/ms-toolsai.jupyter-2021.10.1101450599/pythonFiles', '/Users/brianpm/.vscode/extensions/ms-toolsai.jupyter-2021.10.1101450599/pythonFiles/lib/python', '/Users/brianpm/anaconda3/envs/py39/lib/python39.zip', '/Users/brianpm/anaconda3/envs/py39/lib/python3.9', '/Users/brianpm/anaconda3/envs/py39/lib/python3.9/lib-dynload', '', '/Users/brianpm/anaconda3/envs/py39/lib/python3.9/site-packages', '/Users/brianpm/anaconda3/envs/py39/lib/python3.9/site-packages/IPython/extensions', '/Users/brianpm/.ipython', '/Users/brianpm/Code/CAM_diagnostics/lib']\n"
     ]
    }
   ],
   "source": [
    "# The only difficult part of using ADF outside of the usual CLI is getting it into python's search path.\n",
    "\n",
    "# At present, ADF is not a \"package\" in the python sense of the word [[https://packaging.python.org/tutorials/packaging-projects/]]\n",
    "\n",
    "\n",
    "import sys\n",
    "from pathlib import Path\n",
    "\n",
    "\n",
    "# Determine path to the current directory (where this notebook is):\n",
    "_LOCAL_PATH = Path.cwd() \n",
    "\n",
    "\n",
    "# How to add the `lib` directory depends on knowing where `_LOCAL_PATH` is\n",
    "# relative to the rest of ADF's files. \n",
    "\n",
    "# sys.path.append(_LOCAL_PATH)  # Adds current directory to the path, which is not super useful b/c it already would be included.\n",
    "# Evidence:\n",
    "import plot_example\n",
    "print(dir(plot_example))\n",
    "\n",
    "\n",
    "# Since we know we are in plotting, we can just go up two levels to get the ADF modules:\n",
    "_ADF_MODULE_PATH = _LOCAL_PATH.parent.parent / 'lib'\n",
    "print(_ADF_MODULE_PATH)\n",
    "\n",
    "if str(_ADF_MODULE_PATH) not in sys.path:\n",
    "    sys.path.append(str(_ADF_MODULE_PATH))\n",
    "else:\n",
    "    print(f\"Already have {_ADF_MODULE_PATH} in the path. Import your stuff!\")\n",
    "print(sys.path)\n"
   ]
  },
  {
   "cell_type": "code",
   "execution_count": 2,
   "metadata": {},
   "outputs": [],
   "source": [
    "import adf_base"
   ]
  },
  {
   "cell_type": "code",
   "execution_count": 3,
   "metadata": {},
   "outputs": [
    {
     "data": {
      "text/plain": [
       "['AdfBase',\n",
       " 'AdfError',\n",
       " '__builtins__',\n",
       " '__cached__',\n",
       " '__doc__',\n",
       " '__file__',\n",
       " '__loader__',\n",
       " '__name__',\n",
       " '__package__',\n",
       " '__spec__',\n",
       " 'logging']"
      ]
     },
     "execution_count": 3,
     "metadata": {},
     "output_type": "execute_result"
    }
   ],
   "source": [
    "dir(adf_base)"
   ]
  },
  {
   "cell_type": "code",
   "execution_count": null,
   "metadata": {},
   "outputs": [],
   "source": []
  }
 ],
 "metadata": {
  "interpreter": {
   "hash": "212dfb3ea3413e9fe4524b18311eca42922840b66dc98c1218650466335aa7c4"
  },
  "kernelspec": {
   "display_name": "Python 3.9.4 64-bit ('py39': conda)",
   "language": "python",
   "name": "python3"
  },
  "language_info": {
   "codemirror_mode": {
    "name": "ipython",
    "version": 3
   },
   "file_extension": ".py",
   "mimetype": "text/x-python",
   "name": "python",
   "nbconvert_exporter": "python",
   "pygments_lexer": "ipython3",
   "version": "3.9.4"
  },
  "orig_nbformat": 4
 },
 "nbformat": 4,
 "nbformat_minor": 2
}
